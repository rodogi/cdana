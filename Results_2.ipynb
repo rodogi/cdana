{
 "cells": [
  {
   "cell_type": "markdown",
   "metadata": {},
   "source": [
    "# Network Parameters"
   ]
  },
  {
   "cell_type": "code",
   "execution_count": 1,
   "metadata": {},
   "outputs": [],
   "source": [
    "import pandas as pd\n",
    "import numpy as np\n",
    "import matplotlib.pyplot as plt\n",
    "import seaborn as sns; sns.set(style='darkgrid')"
   ]
  },
  {
   "cell_type": "code",
   "execution_count": 2,
   "metadata": {},
   "outputs": [],
   "source": [
    "import matplotlib\n",
    "matplotlib.use('Agg')\n",
    "sns.set(rc={'text.usetex' : True})"
   ]
  },
  {
   "cell_type": "code",
   "execution_count": 3,
   "metadata": {},
   "outputs": [],
   "source": [
    "matplotlib.rcParams['font.family'] = 'sans-serif'"
   ]
  },
  {
   "cell_type": "code",
   "execution_count": 4,
   "metadata": {},
   "outputs": [],
   "source": [
    "%matplotlib inline"
   ]
  },
  {
   "cell_type": "code",
   "execution_count": 5,
   "metadata": {},
   "outputs": [],
   "source": [
    "from glob import glob\n",
    "from os.path import join"
   ]
  },
  {
   "cell_type": "code",
   "execution_count": 6,
   "metadata": {},
   "outputs": [],
   "source": [
    "import scipy.stats"
   ]
  },
  {
   "cell_type": "code",
   "execution_count": 7,
   "metadata": {},
   "outputs": [],
   "source": [
    "import statsmodels.api as sm"
   ]
  },
  {
   "cell_type": "markdown",
   "metadata": {},
   "source": [
    "#### Outline\n",
    "\n",
    " * Create a general tidy dataframe\n",
    " * Create a Grid figure with structural params per cutoff\n",
    " * Create a figure with linear regression in all tissues between degree and attribute assortativity"
   ]
  },
  {
   "cell_type": "markdown",
   "metadata": {},
   "source": [
    "## Tidy DataFrame"
   ]
  },
  {
   "cell_type": "code",
   "execution_count": 8,
   "metadata": {},
   "outputs": [],
   "source": [
    "DATA = \"/Users/rdora/breast_cancer/data\"\n",
    "FIG = '/Users/rdora/Dropbox/inmegen/breast_cancer/article/figures/'\n",
    "# Tables with network parameters are scattered\n",
    "# around table_{TISSUE NAME}\n",
    "tissues = ['healthy',\n",
    "          'luma',\n",
    "          'lumb',\n",
    "          'her2',\n",
    "          'basal']\n",
    "params = ['cutoff',\n",
    "          'dmin',\n",
    "          'dmax',\n",
    "         'dmean',\n",
    "         'dstd',\n",
    "         'ass',\n",
    "         'ass_attr',\n",
    "         'size']"
   ]
  },
  {
   "cell_type": "code",
   "execution_count": 37,
   "metadata": {},
   "outputs": [],
   "source": [
    "dfs = []\n",
    "for tissue in tissues:\n",
    "    df = pd.read_csv(join(DATA, 'table_{}.csv'.format(tissue)))\n",
    "    df = df[params]\n",
    "    df = df.rename(columns={'cutoff': 'Layer',\n",
    "                      'dmean': 'Mean Deg',\n",
    "                      'dstd': 'Std Deg',\n",
    "                      'dmin': 'Min Deg',\n",
    "                      'dmax': 'Max Deg',\n",
    "                      'ass': 'D.A',\n",
    "                      'ass_attr': 'A.A',\n",
    "                      'size': 'Size'})\n",
    "    if tissue == 'healthy':\n",
    "        tissue = 'Healthy'\n",
    "    elif tissue == 'luma':\n",
    "        tissue = 'Lum A'\n",
    "    elif tissue == 'lumb':\n",
    "        tissue = 'Lum B'\n",
    "    elif tissue == 'her2':\n",
    "        tissue = 'Her2'\n",
    "    else:\n",
    "        tissue = 'Basal'\n",
    "    df['Tissue'] = tissue\n",
    "    dfs.append(df)\n",
    "df = pd.concat(dfs, axis=0)"
   ]
  },
  {
   "cell_type": "code",
   "execution_count": 38,
   "metadata": {},
   "outputs": [],
   "source": [
    "df = df.replace('median', '0')\n",
    "df = df.replace('low', '-1')\n",
    "df['Layer'] = df['Layer'].astype(int)"
   ]
  },
  {
   "cell_type": "code",
   "execution_count": 39,
   "metadata": {},
   "outputs": [
    {
     "data": {
      "text/html": [
       "<div>\n",
       "<style scoped>\n",
       "    .dataframe tbody tr th:only-of-type {\n",
       "        vertical-align: middle;\n",
       "    }\n",
       "\n",
       "    .dataframe tbody tr th {\n",
       "        vertical-align: top;\n",
       "    }\n",
       "\n",
       "    .dataframe thead th {\n",
       "        text-align: right;\n",
       "    }\n",
       "</style>\n",
       "<table border=\"1\" class=\"dataframe\">\n",
       "  <thead>\n",
       "    <tr style=\"text-align: right;\">\n",
       "      <th></th>\n",
       "      <th>Layer</th>\n",
       "      <th>Min Deg</th>\n",
       "      <th>Max Deg</th>\n",
       "      <th>Mean Deg</th>\n",
       "      <th>Std Deg</th>\n",
       "      <th>D.A</th>\n",
       "      <th>A.A</th>\n",
       "      <th>Size</th>\n",
       "      <th>Tissue</th>\n",
       "    </tr>\n",
       "  </thead>\n",
       "  <tbody>\n",
       "    <tr>\n",
       "      <th>0</th>\n",
       "      <td>94</td>\n",
       "      <td>1</td>\n",
       "      <td>76</td>\n",
       "      <td>14.792599</td>\n",
       "      <td>10.830995</td>\n",
       "      <td>0.144910</td>\n",
       "      <td>0.010280</td>\n",
       "      <td>14161</td>\n",
       "      <td>Healthy</td>\n",
       "    </tr>\n",
       "    <tr>\n",
       "      <th>1</th>\n",
       "      <td>84</td>\n",
       "      <td>1</td>\n",
       "      <td>52</td>\n",
       "      <td>14.549243</td>\n",
       "      <td>8.244891</td>\n",
       "      <td>0.094900</td>\n",
       "      <td>0.005484</td>\n",
       "      <td>14398</td>\n",
       "      <td>Healthy</td>\n",
       "    </tr>\n",
       "    <tr>\n",
       "      <th>2</th>\n",
       "      <td>50</td>\n",
       "      <td>1</td>\n",
       "      <td>42</td>\n",
       "      <td>14.477711</td>\n",
       "      <td>5.709854</td>\n",
       "      <td>0.043044</td>\n",
       "      <td>0.002747</td>\n",
       "      <td>14469</td>\n",
       "      <td>Healthy</td>\n",
       "    </tr>\n",
       "    <tr>\n",
       "      <th>3</th>\n",
       "      <td>70</td>\n",
       "      <td>1</td>\n",
       "      <td>46</td>\n",
       "      <td>14.494707</td>\n",
       "      <td>6.767300</td>\n",
       "      <td>0.068603</td>\n",
       "      <td>0.003017</td>\n",
       "      <td>14453</td>\n",
       "      <td>Healthy</td>\n",
       "    </tr>\n",
       "    <tr>\n",
       "      <th>4</th>\n",
       "      <td>30</td>\n",
       "      <td>1</td>\n",
       "      <td>38</td>\n",
       "      <td>14.479928</td>\n",
       "      <td>5.193934</td>\n",
       "      <td>0.026176</td>\n",
       "      <td>0.002048</td>\n",
       "      <td>14473</td>\n",
       "      <td>Healthy</td>\n",
       "    </tr>\n",
       "  </tbody>\n",
       "</table>\n",
       "</div>"
      ],
      "text/plain": [
       "   Layer  Min Deg  Max Deg   Mean Deg    Std Deg       D.A       A.A   Size  \\\n",
       "0     94        1       76  14.792599  10.830995  0.144910  0.010280  14161   \n",
       "1     84        1       52  14.549243   8.244891  0.094900  0.005484  14398   \n",
       "2     50        1       42  14.477711   5.709854  0.043044  0.002747  14469   \n",
       "3     70        1       46  14.494707   6.767300  0.068603  0.003017  14453   \n",
       "4     30        1       38  14.479928   5.193934  0.026176  0.002048  14473   \n",
       "\n",
       "    Tissue  \n",
       "0  Healthy  \n",
       "1  Healthy  \n",
       "2  Healthy  \n",
       "3  Healthy  \n",
       "4  Healthy  "
      ]
     },
     "execution_count": 39,
     "metadata": {},
     "output_type": "execute_result"
    }
   ],
   "source": [
    "df.head()"
   ]
  },
  {
   "cell_type": "code",
   "execution_count": 40,
   "metadata": {},
   "outputs": [],
   "source": [
    "df.to_csv(join(DATA, 'net_params_clean.csv'), index=False)"
   ]
  },
  {
   "cell_type": "code",
   "execution_count": 196,
   "metadata": {},
   "outputs": [],
   "source": [
    "df_tidy = pd.melt(df, id_vars=[\"Tissue\", \"Layer\"],\n",
    "                 value_vars=[\"Mean Deg\",\n",
    "                             \"Std Deg\",\n",
    "                             \"D.A\",\n",
    "                             \"A.A\",\n",
    "                             \"Size\",\n",
    "                            \"Min Deg\",\n",
    "                            \"Max Deg\"],\n",
    "                 var_name=\"Param\",\n",
    "                 value_name=\"Value\")"
   ]
  },
  {
   "cell_type": "code",
   "execution_count": 197,
   "metadata": {},
   "outputs": [
    {
     "data": {
      "text/html": [
       "<div>\n",
       "<style scoped>\n",
       "    .dataframe tbody tr th:only-of-type {\n",
       "        vertical-align: middle;\n",
       "    }\n",
       "\n",
       "    .dataframe tbody tr th {\n",
       "        vertical-align: top;\n",
       "    }\n",
       "\n",
       "    .dataframe thead th {\n",
       "        text-align: right;\n",
       "    }\n",
       "</style>\n",
       "<table border=\"1\" class=\"dataframe\">\n",
       "  <thead>\n",
       "    <tr style=\"text-align: right;\">\n",
       "      <th></th>\n",
       "      <th>Tissue</th>\n",
       "      <th>Layer</th>\n",
       "      <th>Param</th>\n",
       "      <th>Value</th>\n",
       "    </tr>\n",
       "  </thead>\n",
       "  <tbody>\n",
       "    <tr>\n",
       "      <th>0</th>\n",
       "      <td>Healthy</td>\n",
       "      <td>94</td>\n",
       "      <td>Mean Deg</td>\n",
       "      <td>14.792599</td>\n",
       "    </tr>\n",
       "    <tr>\n",
       "      <th>1</th>\n",
       "      <td>Healthy</td>\n",
       "      <td>84</td>\n",
       "      <td>Mean Deg</td>\n",
       "      <td>14.549243</td>\n",
       "    </tr>\n",
       "    <tr>\n",
       "      <th>2</th>\n",
       "      <td>Healthy</td>\n",
       "      <td>50</td>\n",
       "      <td>Mean Deg</td>\n",
       "      <td>14.477711</td>\n",
       "    </tr>\n",
       "    <tr>\n",
       "      <th>3</th>\n",
       "      <td>Healthy</td>\n",
       "      <td>70</td>\n",
       "      <td>Mean Deg</td>\n",
       "      <td>14.494707</td>\n",
       "    </tr>\n",
       "    <tr>\n",
       "      <th>4</th>\n",
       "      <td>Healthy</td>\n",
       "      <td>30</td>\n",
       "      <td>Mean Deg</td>\n",
       "      <td>14.479928</td>\n",
       "    </tr>\n",
       "  </tbody>\n",
       "</table>\n",
       "</div>"
      ],
      "text/plain": [
       "    Tissue  Layer     Param      Value\n",
       "0  Healthy     94  Mean Deg  14.792599\n",
       "1  Healthy     84  Mean Deg  14.549243\n",
       "2  Healthy     50  Mean Deg  14.477711\n",
       "3  Healthy     70  Mean Deg  14.494707\n",
       "4  Healthy     30  Mean Deg  14.479928"
      ]
     },
     "execution_count": 197,
     "metadata": {},
     "output_type": "execute_result"
    }
   ],
   "source": [
    "df_tidy.head()"
   ]
  },
  {
   "cell_type": "code",
   "execution_count": 191,
   "metadata": {},
   "outputs": [],
   "source": [
    "df_tidy.to_csv(join(DATA, 'netparams_tidy.csv'), index=False)"
   ]
  },
  {
   "cell_type": "code",
   "execution_count": 9,
   "metadata": {},
   "outputs": [],
   "source": [
    "df_tidy = pd.read_csv(join(DATA, 'netparams_tidy.csv'))"
   ]
  },
  {
   "cell_type": "markdown",
   "metadata": {},
   "source": [
    "## Table\n",
    "Get the variance of each parameter per tissue."
   ]
  },
  {
   "cell_type": "code",
   "execution_count": 15,
   "metadata": {},
   "outputs": [
    {
     "data": {
      "text/html": [
       "<div>\n",
       "<style scoped>\n",
       "    .dataframe tbody tr th:only-of-type {\n",
       "        vertical-align: middle;\n",
       "    }\n",
       "\n",
       "    .dataframe tbody tr th {\n",
       "        vertical-align: top;\n",
       "    }\n",
       "\n",
       "    .dataframe thead th {\n",
       "        text-align: right;\n",
       "    }\n",
       "</style>\n",
       "<table border=\"1\" class=\"dataframe\">\n",
       "  <thead>\n",
       "    <tr style=\"text-align: right;\">\n",
       "      <th></th>\n",
       "      <th>Min Deg</th>\n",
       "      <th>Max Deg</th>\n",
       "      <th>Mean Deg</th>\n",
       "      <th>Std Deg</th>\n",
       "      <th>D.A</th>\n",
       "      <th>A.A</th>\n",
       "      <th>Size</th>\n",
       "    </tr>\n",
       "    <tr>\n",
       "      <th>Tissue</th>\n",
       "      <th></th>\n",
       "      <th></th>\n",
       "      <th></th>\n",
       "      <th></th>\n",
       "      <th></th>\n",
       "      <th></th>\n",
       "      <th></th>\n",
       "    </tr>\n",
       "  </thead>\n",
       "  <tbody>\n",
       "    <tr>\n",
       "      <th>Basal</th>\n",
       "      <td>0.362594</td>\n",
       "      <td>0.234570</td>\n",
       "      <td>0.030504</td>\n",
       "      <td>0.341509</td>\n",
       "      <td>2.723975</td>\n",
       "      <td>2.744144</td>\n",
       "      <td>0.023483</td>\n",
       "    </tr>\n",
       "    <tr>\n",
       "      <th>Healthy</th>\n",
       "      <td>0.164941</td>\n",
       "      <td>0.693072</td>\n",
       "      <td>0.022641</td>\n",
       "      <td>0.436635</td>\n",
       "      <td>0.868442</td>\n",
       "      <td>1.081144</td>\n",
       "      <td>0.019870</td>\n",
       "    </tr>\n",
       "    <tr>\n",
       "      <th>Her2</th>\n",
       "      <td>0.324616</td>\n",
       "      <td>0.223603</td>\n",
       "      <td>0.001738</td>\n",
       "      <td>0.284346</td>\n",
       "      <td>3.641215</td>\n",
       "      <td>2.464237</td>\n",
       "      <td>0.001683</td>\n",
       "    </tr>\n",
       "    <tr>\n",
       "      <th>Lum A</th>\n",
       "      <td>0.393039</td>\n",
       "      <td>0.344588</td>\n",
       "      <td>0.014556</td>\n",
       "      <td>0.407149</td>\n",
       "      <td>2.177001</td>\n",
       "      <td>2.347815</td>\n",
       "      <td>0.012724</td>\n",
       "    </tr>\n",
       "    <tr>\n",
       "      <th>Lum B</th>\n",
       "      <td>0.354649</td>\n",
       "      <td>0.327769</td>\n",
       "      <td>0.026051</td>\n",
       "      <td>0.409954</td>\n",
       "      <td>3.069055</td>\n",
       "      <td>2.538086</td>\n",
       "      <td>0.020724</td>\n",
       "    </tr>\n",
       "  </tbody>\n",
       "</table>\n",
       "</div>"
      ],
      "text/plain": [
       "          Min Deg   Max Deg  Mean Deg   Std Deg       D.A       A.A      Size\n",
       "Tissue                                                                       \n",
       "Basal    0.362594  0.234570  0.030504  0.341509  2.723975  2.744144  0.023483\n",
       "Healthy  0.164941  0.693072  0.022641  0.436635  0.868442  1.081144  0.019870\n",
       "Her2     0.324616  0.223603  0.001738  0.284346  3.641215  2.464237  0.001683\n",
       "Lum A    0.393039  0.344588  0.014556  0.407149  2.177001  2.347815  0.012724\n",
       "Lum B    0.354649  0.327769  0.026051  0.409954  3.069055  2.538086  0.020724"
      ]
     },
     "execution_count": 15,
     "metadata": {},
     "output_type": "execute_result"
    }
   ],
   "source": [
    "df.groupby('Tissue').std().drop('Layer', axis=1) / df.groupby('Tissue').mean().drop('Layer', axis=1)"
   ]
  },
  {
   "cell_type": "code",
   "execution_count": 16,
   "metadata": {},
   "outputs": [
    {
     "data": {
      "text/html": [
       "<div>\n",
       "<style scoped>\n",
       "    .dataframe tbody tr th:only-of-type {\n",
       "        vertical-align: middle;\n",
       "    }\n",
       "\n",
       "    .dataframe tbody tr th {\n",
       "        vertical-align: top;\n",
       "    }\n",
       "\n",
       "    .dataframe thead th {\n",
       "        text-align: right;\n",
       "    }\n",
       "</style>\n",
       "<table border=\"1\" class=\"dataframe\">\n",
       "  <thead>\n",
       "    <tr style=\"text-align: right;\">\n",
       "      <th></th>\n",
       "      <th>Min Deg</th>\n",
       "      <th>Max Deg</th>\n",
       "      <th>Mean Deg</th>\n",
       "      <th>Std Deg</th>\n",
       "      <th>D.A</th>\n",
       "      <th>A.A</th>\n",
       "      <th>Size</th>\n",
       "    </tr>\n",
       "    <tr>\n",
       "      <th>Tissue</th>\n",
       "      <th></th>\n",
       "      <th></th>\n",
       "      <th></th>\n",
       "      <th></th>\n",
       "      <th></th>\n",
       "      <th></th>\n",
       "      <th></th>\n",
       "    </tr>\n",
       "  </thead>\n",
       "  <tbody>\n",
       "    <tr>\n",
       "      <th>Basal</th>\n",
       "      <td>0.360196</td>\n",
       "      <td>0.107749</td>\n",
       "      <td>0.002334</td>\n",
       "      <td>0.178801</td>\n",
       "      <td>2.312963</td>\n",
       "      <td>2.357784</td>\n",
       "      <td>0.002235</td>\n",
       "    </tr>\n",
       "    <tr>\n",
       "      <th>Healthy</th>\n",
       "      <td>0.165692</td>\n",
       "      <td>0.365435</td>\n",
       "      <td>0.012823</td>\n",
       "      <td>0.336680</td>\n",
       "      <td>0.792530</td>\n",
       "      <td>0.910767</td>\n",
       "      <td>0.012081</td>\n",
       "    </tr>\n",
       "    <tr>\n",
       "      <th>Her2</th>\n",
       "      <td>0.320709</td>\n",
       "      <td>0.082305</td>\n",
       "      <td>0.000301</td>\n",
       "      <td>0.089813</td>\n",
       "      <td>2.304426</td>\n",
       "      <td>1.468028</td>\n",
       "      <td>0.000012</td>\n",
       "    </tr>\n",
       "    <tr>\n",
       "      <th>Lum A</th>\n",
       "      <td>0.391857</td>\n",
       "      <td>0.143376</td>\n",
       "      <td>0.000821</td>\n",
       "      <td>0.192043</td>\n",
       "      <td>1.451252</td>\n",
       "      <td>1.706263</td>\n",
       "      <td>0.000693</td>\n",
       "    </tr>\n",
       "    <tr>\n",
       "      <th>Lum B</th>\n",
       "      <td>0.351753</td>\n",
       "      <td>0.129441</td>\n",
       "      <td>0.001248</td>\n",
       "      <td>0.201199</td>\n",
       "      <td>2.684657</td>\n",
       "      <td>2.037821</td>\n",
       "      <td>0.001149</td>\n",
       "    </tr>\n",
       "  </tbody>\n",
       "</table>\n",
       "</div>"
      ],
      "text/plain": [
       "          Min Deg   Max Deg  Mean Deg   Std Deg       D.A       A.A      Size\n",
       "Tissue                                                                       \n",
       "Basal    0.360196  0.107749  0.002334  0.178801  2.312963  2.357784  0.002235\n",
       "Healthy  0.165692  0.365435  0.012823  0.336680  0.792530  0.910767  0.012081\n",
       "Her2     0.320709  0.082305  0.000301  0.089813  2.304426  1.468028  0.000012\n",
       "Lum A    0.391857  0.143376  0.000821  0.192043  1.451252  1.706263  0.000693\n",
       "Lum B    0.351753  0.129441  0.001248  0.201199  2.684657  2.037821  0.001149"
      ]
     },
     "execution_count": 16,
     "metadata": {},
     "output_type": "execute_result"
    }
   ],
   "source": [
    "# All but the layer with largests co-expression\n",
    "df[df.Layer < 100].groupby('Tissue').std().drop('Layer', axis=1) / df[df.Layer < 100].groupby('Tissue').mean().drop('Layer', axis=1)"
   ]
  },
  {
   "cell_type": "code",
   "execution_count": 17,
   "metadata": {},
   "outputs": [
    {
     "data": {
      "text/html": [
       "<div>\n",
       "<style scoped>\n",
       "    .dataframe tbody tr th:only-of-type {\n",
       "        vertical-align: middle;\n",
       "    }\n",
       "\n",
       "    .dataframe tbody tr th {\n",
       "        vertical-align: top;\n",
       "    }\n",
       "\n",
       "    .dataframe thead th {\n",
       "        text-align: right;\n",
       "    }\n",
       "</style>\n",
       "<table border=\"1\" class=\"dataframe\">\n",
       "  <thead>\n",
       "    <tr style=\"text-align: right;\">\n",
       "      <th></th>\n",
       "      <th>Min Deg</th>\n",
       "      <th>Max Deg</th>\n",
       "      <th>Mean Deg</th>\n",
       "      <th>Std Deg</th>\n",
       "      <th>D.A</th>\n",
       "      <th>A.A</th>\n",
       "      <th>Size</th>\n",
       "    </tr>\n",
       "    <tr>\n",
       "      <th>Tissue</th>\n",
       "      <th></th>\n",
       "      <th></th>\n",
       "      <th></th>\n",
       "      <th></th>\n",
       "      <th></th>\n",
       "      <th></th>\n",
       "      <th></th>\n",
       "    </tr>\n",
       "  </thead>\n",
       "  <tbody>\n",
       "    <tr>\n",
       "      <th>Basal</th>\n",
       "      <td>0.412079</td>\n",
       "      <td>14.037624</td>\n",
       "      <td>0.001142</td>\n",
       "      <td>0.588022</td>\n",
       "      <td>0.001268</td>\n",
       "      <td>0.007793</td>\n",
       "      <td>1045.588317</td>\n",
       "    </tr>\n",
       "    <tr>\n",
       "      <th>Healthy</th>\n",
       "      <td>0.029109</td>\n",
       "      <td>289.429505</td>\n",
       "      <td>0.034729</td>\n",
       "      <td>4.777966</td>\n",
       "      <td>0.001889</td>\n",
       "      <td>0.000010</td>\n",
       "      <td>30330.197822</td>\n",
       "    </tr>\n",
       "    <tr>\n",
       "      <th>Her2</th>\n",
       "      <td>0.419604</td>\n",
       "      <td>7.514851</td>\n",
       "      <td>0.000019</td>\n",
       "      <td>0.132776</td>\n",
       "      <td>0.000544</td>\n",
       "      <td>0.001321</td>\n",
       "      <td>0.029109</td>\n",
       "    </tr>\n",
       "    <tr>\n",
       "      <th>Lum A</th>\n",
       "      <td>0.385347</td>\n",
       "      <td>27.171683</td>\n",
       "      <td>0.000141</td>\n",
       "      <td>0.768009</td>\n",
       "      <td>0.001437</td>\n",
       "      <td>0.003396</td>\n",
       "      <td>100.694851</td>\n",
       "    </tr>\n",
       "    <tr>\n",
       "      <th>Lum B</th>\n",
       "      <td>0.433267</td>\n",
       "      <td>19.845347</td>\n",
       "      <td>0.000327</td>\n",
       "      <td>0.727575</td>\n",
       "      <td>0.001779</td>\n",
       "      <td>0.005869</td>\n",
       "      <td>276.454257</td>\n",
       "    </tr>\n",
       "  </tbody>\n",
       "</table>\n",
       "</div>"
      ],
      "text/plain": [
       "          Min Deg     Max Deg  Mean Deg   Std Deg       D.A       A.A  \\\n",
       "Tissue                                                                  \n",
       "Basal    0.412079   14.037624  0.001142  0.588022  0.001268  0.007793   \n",
       "Healthy  0.029109  289.429505  0.034729  4.777966  0.001889  0.000010   \n",
       "Her2     0.419604    7.514851  0.000019  0.132776  0.000544  0.001321   \n",
       "Lum A    0.385347   27.171683  0.000141  0.768009  0.001437  0.003396   \n",
       "Lum B    0.433267   19.845347  0.000327  0.727575  0.001779  0.005869   \n",
       "\n",
       "                 Size  \n",
       "Tissue                 \n",
       "Basal     1045.588317  \n",
       "Healthy  30330.197822  \n",
       "Her2         0.029109  \n",
       "Lum A      100.694851  \n",
       "Lum B      276.454257  "
      ]
     },
     "execution_count": 17,
     "metadata": {},
     "output_type": "execute_result"
    }
   ],
   "source": [
    "# All but the layer with largests co-expression\n",
    "df[df.Layer < 100].groupby('Tissue').var().drop('Layer', axis=1)"
   ]
  },
  {
   "cell_type": "markdown",
   "metadata": {},
   "source": [
    "## Correlation cis ratio and attribute assortativity"
   ]
  },
  {
   "cell_type": "code",
   "execution_count": 130,
   "metadata": {},
   "outputs": [],
   "source": [
    "cis_ratio = pd.read_csv(join(DATA, 'cis_ratio.csv'))\n",
    "cis_ratio = cis_ratio.rename(columns={\"Luminal-A\": \"Lum A\",\n",
    "                                     \"Luminal-B\": \"Lum B\"})\n",
    "cis_ratio['Layer'] = list(range(-1, 101))\n",
    "cis_ratio = cis_ratio.drop('cutoff', axis=1)"
   ]
  },
  {
   "cell_type": "code",
   "execution_count": 170,
   "metadata": {},
   "outputs": [
    {
     "name": "stdout",
     "output_type": "stream",
     "text": [
      "Mean correlation: 0.999798\n"
     ]
    }
   ],
   "source": [
    "corrs = []\n",
    "for tissue in ['Healthy', 'Lum A', 'Lum B', 'Her2', 'Basal']:\n",
    "    attr_ass = df[df.Tissue==tissue].sort_values(by='Layer')['A.A'].values\n",
    "    cr = cis_ratio.sort_values(by='Layer')[tissue].values\n",
    "    corrs.append(scipy.stats.pearsonr(attr_ass, cr)[0])\n",
    "print(\"Mean correlation: {:f}\".format(np.mean(corrs)))"
   ]
  },
  {
   "cell_type": "markdown",
   "metadata": {},
   "source": [
    "## Correlation degree and attribute assortativity\n",
    "\n",
    "Get mean pearson correlation between attribute assortativity (A.A) and\n",
    "degree assortativity (D.A) within cancer tissues."
   ]
  },
  {
   "cell_type": "code",
   "execution_count": 171,
   "metadata": {},
   "outputs": [
    {
     "name": "stdout",
     "output_type": "stream",
     "text": [
      "Mean correlation all tissues: 0.997176\n"
     ]
    }
   ],
   "source": [
    "corrs = []\n",
    "for tissue in tissues:\n",
    "    corrs.append(df[df.Tissue == 'Basal'].corr().loc['A.A', 'D.A'].item())\n",
    "print(\"Mean correlation all tissues: {:f}\".format(np.mean(corrs)))"
   ]
  },
  {
   "cell_type": "code",
   "execution_count": 173,
   "metadata": {},
   "outputs": [
    {
     "name": "stdout",
     "output_type": "stream",
     "text": [
      "Correlation Healthy: 0.951459\n"
     ]
    }
   ],
   "source": [
    "# Let's get the healthy equivalent\n",
    "c = df[df.Tissue == 'Healthy'].corr().loc['A.A', 'D.A'].item()\n",
    "print(\"Correlation Healthy: {:f}\".format(c))"
   ]
  },
  {
   "cell_type": "markdown",
   "metadata": {},
   "source": [
    "# Visualization"
   ]
  },
  {
   "cell_type": "code",
   "execution_count": 24,
   "metadata": {},
   "outputs": [
    {
     "data": {
      "image/png": "[encoded data removed]",
      "text/plain": [
       "<Figure size 360x72 with 1 Axes>"
      ]
     },
     "metadata": {
      "needs_background": "light"
     },
     "output_type": "display_data"
    }
   ],
   "source": [
    "colors = ['#6aabd1', '#b63b2e', '#363441', '#ab9b93', '#abd16a']\n",
    "pal = sns.color_palette(colors)\n",
    "\n",
    "sns.palplot(pal)"
   ]
  },
  {
   "cell_type": "markdown",
   "metadata": {},
   "source": [
    "## Grid plot with network parameters"
   ]
  },
  {
   "cell_type": "code",
   "execution_count": 22,
   "metadata": {},
   "outputs": [],
   "source": [
    "hue_order = [\"Healthy\",\n",
    "            \"Lum A\",\n",
    "            \"Lum B\",\n",
    "            \"Her2\",\n",
    "            \"Basal\"]"
   ]
  },
  {
   "cell_type": "code",
   "execution_count": 202,
   "metadata": {},
   "outputs": [
    {
     "data": {
      "text/plain": [
       "<seaborn.axisgrid.FacetGrid at 0x147e41320>"
      ]
     },
     "execution_count": 202,
     "metadata": {},
     "output_type": "execute_result"
    },
    {
     "data": {
      "image/png": "[encoded data removed]",
      "text/plain": [
       "<Figure size 1080x1512 with 35 Axes>"
      ]
     },
     "metadata": {},
     "output_type": "display_data"
    }
   ],
   "source": [
    "g = sns.FacetGrid(df_tidy, col=\"Tissue\", row=\"Param\", hue=\"Tissue\",\n",
    "                 hue_order=hue_order, sharex=True, sharey=\"row\", palette=pal)\n",
    "g.map(plt.scatter, \"Layer\", \"Value\")\n",
    "# g.savefig(join(FIG, 'facet_grid_param.png'), dpi=300)"
   ]
  },
  {
   "cell_type": "markdown",
   "metadata": {},
   "source": [
    "## Regression plot attribute assortativity and degree assortativity"
   ]
  },
  {
   "cell_type": "code",
   "execution_count": 187,
   "metadata": {},
   "outputs": [],
   "source": [
    "sns.regplot?"
   ]
  },
  {
   "cell_type": "code",
   "execution_count": 189,
   "metadata": {},
   "outputs": [
    {
     "data": {
      "image/png": "[encoded data removed]",
      "text/plain": [
       "<Figure size 1080x216 with 5 Axes>"
      ]
     },
     "metadata": {},
     "output_type": "display_data"
    }
   ],
   "source": [
    "g = sns.FacetGrid(df, col=\"Tissue\", hue=\"Tissue\",\n",
    "                 hue_order=hue_order, sharex=True, sharey=\"row\", palette=pal)\n",
    "g.map(sns.regplot, 'A.A', 'D.A', ci=None)\n",
    "g.savefig(join(FIG, 'regplot_ass_ass_attr.png'), dpi=300)"
   ]
  },
  {
   "cell_type": "markdown",
   "metadata": {},
   "source": [
    "### Slopes of the models"
   ]
  },
  {
   "cell_type": "code",
   "execution_count": 186,
   "metadata": {},
   "outputs": [
    {
     "name": "stdout",
     "output_type": "stream",
     "text": [
      "Slope for Healthy: 13.14\n",
      "Slope for Lum A: 0.71\n",
      "Slope for Lum B: 0.51\n",
      "Slope for Her2: 0.67\n",
      "Slope for Basal: 0.41\n"
     ]
    }
   ],
   "source": [
    "for tissue in ['Healthy', 'Lum A', 'Lum B', 'Her2', 'Basal']:\n",
    "    X = df.loc[df.Tissue==tissue, 'A.A'].values\n",
    "    Y = df.loc[df.Tissue==tissue, 'D.A'].values\n",
    "    model = sm.OLS(Y, X).fit()\n",
    "\n",
    "    print(\"Slope for {0}: {1:.2f}\".format(tissue, model.params[0]))"
   ]
  },
  {
   "cell_type": "code",
   "execution_count": 182,
   "metadata": {},
   "outputs": [
    {
     "data": {
      "text/html": [
       "<table class=\"simpletable\">\n",
       "<caption>OLS Regression Results</caption>\n",
       "<tr>\n",
       "  <th>Dep. Variable:</th>            <td>y</td>        <th>  R-squared:         </th> <td>   1.000</td> \n",
       "</tr>\n",
       "<tr>\n",
       "  <th>Model:</th>                   <td>OLS</td>       <th>  Adj. R-squared:    </th> <td>   1.000</td> \n",
       "</tr>\n",
       "<tr>\n",
       "  <th>Method:</th>             <td>Least Squares</td>  <th>  F-statistic:       </th> <td>3.800e+33</td>\n",
       "</tr>\n",
       "<tr>\n",
       "  <th>Date:</th>             <td>Thu, 03 Oct 2019</td> <th>  Prob (F-statistic):</th>  <td>  0.00</td>  \n",
       "</tr>\n",
       "<tr>\n",
       "  <th>Time:</th>                 <td>19:21:42</td>     <th>  Log-Likelihood:    </th> <td>  4092.2</td> \n",
       "</tr>\n",
       "<tr>\n",
       "  <th>No. Observations:</th>      <td>   102</td>      <th>  AIC:               </th> <td>  -8182.</td> \n",
       "</tr>\n",
       "<tr>\n",
       "  <th>Df Residuals:</th>          <td>   101</td>      <th>  BIC:               </th> <td>  -8180.</td> \n",
       "</tr>\n",
       "<tr>\n",
       "  <th>Df Model:</th>              <td>     1</td>      <th>                     </th>     <td> </td>    \n",
       "</tr>\n",
       "<tr>\n",
       "  <th>Covariance Type:</th>      <td>nonrobust</td>    <th>                     </th>     <td> </td>    \n",
       "</tr>\n",
       "</table>\n",
       "<table class=\"simpletable\">\n",
       "<tr>\n",
       "   <td></td>     <th>coef</th>     <th>std err</th>      <th>t</th>      <th>P>|t|</th>  <th>[0.025</th>    <th>0.975]</th>  \n",
       "</tr>\n",
       "<tr>\n",
       "  <th>x1</th> <td>    1.0000</td> <td> 1.62e-17</td> <td> 6.16e+16</td> <td> 0.000</td> <td>    1.000</td> <td>    1.000</td>\n",
       "</tr>\n",
       "</table>\n",
       "<table class=\"simpletable\">\n",
       "<tr>\n",
       "  <th>Omnibus:</th>       <td>74.454</td> <th>  Durbin-Watson:     </th> <td>   1.142</td>\n",
       "</tr>\n",
       "<tr>\n",
       "  <th>Prob(Omnibus):</th> <td> 0.000</td> <th>  Jarque-Bera (JB):  </th> <td> 351.208</td>\n",
       "</tr>\n",
       "<tr>\n",
       "  <th>Skew:</th>          <td> 2.566</td> <th>  Prob(JB):          </th> <td>5.45e-77</td>\n",
       "</tr>\n",
       "<tr>\n",
       "  <th>Kurtosis:</th>      <td>10.503</td> <th>  Cond. No.          </th> <td>    1.00</td>\n",
       "</tr>\n",
       "</table><br/><br/>Warnings:<br/>[1] Standard Errors assume that the covariance matrix of the errors is correctly specified."
      ],
      "text/plain": [
       "<class 'statsmodels.iolib.summary.Summary'>\n",
       "\"\"\"\n",
       "                            OLS Regression Results                            \n",
       "==============================================================================\n",
       "Dep. Variable:                      y   R-squared:                       1.000\n",
       "Model:                            OLS   Adj. R-squared:                  1.000\n",
       "Method:                 Least Squares   F-statistic:                 3.800e+33\n",
       "Date:                Thu, 03 Oct 2019   Prob (F-statistic):               0.00\n",
       "Time:                        19:21:42   Log-Likelihood:                 4092.2\n",
       "No. Observations:                 102   AIC:                            -8182.\n",
       "Df Residuals:                     101   BIC:                            -8180.\n",
       "Df Model:                           1                                         \n",
       "Covariance Type:            nonrobust                                         \n",
       "==============================================================================\n",
       "                 coef    std err          t      P>|t|      [0.025      0.975]\n",
       "------------------------------------------------------------------------------\n",
       "x1             1.0000   1.62e-17   6.16e+16      0.000       1.000       1.000\n",
       "==============================================================================\n",
       "Omnibus:                       74.454   Durbin-Watson:                   1.142\n",
       "Prob(Omnibus):                  0.000   Jarque-Bera (JB):              351.208\n",
       "Skew:                           2.566   Prob(JB):                     5.45e-77\n",
       "Kurtosis:                      10.503   Cond. No.                         1.00\n",
       "==============================================================================\n",
       "\n",
       "Warnings:\n",
       "[1] Standard Errors assume that the covariance matrix of the errors is correctly specified.\n",
       "\"\"\""
      ]
     },
     "execution_count": 182,
     "metadata": {},
     "output_type": "execute_result"
    }
   ],
   "source": [
    "model.summary()"
   ]
  },
  {
   "cell_type": "markdown",
   "metadata": {},
   "source": [
    "## VS Plots"
   ]
  },
  {
   "cell_type": "markdown",
   "metadata": {},
   "source": [
    "In this part of the notebook, we are plotting several paramaters together.\n",
    "\n",
    "1. Size vs mean degree\n",
    "2. Standard deviation degree vs attribute assortativity\n",
    "3. Degree assortativity vs attribute assortativity"
   ]
  },
  {
   "cell_type": "code",
   "execution_count": 20,
   "metadata": {},
   "outputs": [
    {
     "data": {
      "text/plain": [
       "array(['Mean Deg', 'Std Deg', 'D.A', 'A.A', 'Size'], dtype=object)"
      ]
     },
     "execution_count": 20,
     "metadata": {},
     "output_type": "execute_result"
    }
   ],
   "source": [
    "df_tidy.Param.unique()"
   ]
  },
  {
   "cell_type": "code",
   "execution_count": 34,
   "metadata": {
    "scrolled": true
   },
   "outputs": [
    {
     "data": {
      "image/png": "[encoded data removed]",
      "text/plain": [
       "<Figure size 1080x216 with 5 Axes>"
      ]
     },
     "metadata": {
      "needs_background": "light"
     },
     "output_type": "display_data"
    }
   ],
   "source": [
    "g = sns.FacetGrid(df, col=\"Tissue\", hue=\"Tissue\",\n",
    "                 hue_order=hue_order, sharex=True, sharey=\"row\", palette=pal)\n",
    "g.map(sns.regplot, 'Mean Deg', 'Size', ci=None)\n",
    "g.savefig(join(FIG, 'regplot_size_mean_deg.png'), dpi=300)"
   ]
  },
  {
   "cell_type": "code",
   "execution_count": 35,
   "metadata": {},
   "outputs": [
    {
     "data": {
      "image/png": "[encoded data removed]",
      "text/plain": [
       "<Figure size 1080x216 with 5 Axes>"
      ]
     },
     "metadata": {
      "needs_background": "light"
     },
     "output_type": "display_data"
    }
   ],
   "source": [
    "g = sns.FacetGrid(df, col=\"Tissue\", hue=\"Tissue\",\n",
    "                 hue_order=hue_order, sharex=True, sharey=\"row\", palette=pal)\n",
    "g.map(sns.regplot, 'A.A', 'Std Deg', ci=None)\n",
    "g.savefig(join(FIG, 'regplot_std_deg_AA.png'), dpi=300)"
   ]
  },
  {
   "cell_type": "code",
   "execution_count": 36,
   "metadata": {},
   "outputs": [
    {
     "data": {
      "image/png": "[encoded data removed]",
      "text/plain": [
       "<Figure size 1080x216 with 5 Axes>"
      ]
     },
     "metadata": {
      "needs_background": "light"
     },
     "output_type": "display_data"
    }
   ],
   "source": [
    "g = sns.FacetGrid(df, col=\"Tissue\", hue=\"Tissue\",\n",
    "                 hue_order=hue_order, sharex=True, sharey=\"row\", palette=pal)\n",
    "g.map(sns.regplot, 'A.A', 'D.A', ci=None)\n",
    "g.savefig(join(FIG, 'regplot_DA_AA.png'), dpi=300)"
   ]
  }
 ],
 "metadata": {
  "kernelspec": {
   "display_name": "Python 3",
   "language": "python",
   "name": "python3"
  },
  "language_info": {
   "codemirror_mode": {
    "name": "ipython",
    "version": 3
   },
   "file_extension": ".py",
   "mimetype": "text/x-python",
   "name": "python",
   "nbconvert_exporter": "python",
   "pygments_lexer": "ipython3",
   "version": "3.7.3"
  }
 },
 "nbformat": 4,
 "nbformat_minor": 2
}
