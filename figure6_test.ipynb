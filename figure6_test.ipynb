{
 "cells": [
  {
   "cell_type": "code",
   "execution_count": 1,
   "metadata": {},
   "outputs": [],
   "source": [
    "import pandas as pd\n",
    "import numpy as np"
   ]
  },
  {
   "cell_type": "code",
   "execution_count": 2,
   "metadata": {},
   "outputs": [],
   "source": [
    "import seaborn as sns"
   ]
  },
  {
   "cell_type": "code",
   "execution_count": 8,
   "metadata": {},
   "outputs": [],
   "source": [
    "import scipy.stats"
   ]
  },
  {
   "cell_type": "code",
   "execution_count": 32,
   "metadata": {},
   "outputs": [],
   "source": [
    "df_cores = pd.read_csv(\"/Users/rdora/breast_cancer/data/degree_cores_group.csv\")"
   ]
  },
  {
   "cell_type": "code",
   "execution_count": 7,
   "metadata": {},
   "outputs": [],
   "source": [
    "df_hubs = pd.read_csv(\"/Users/rdora/breast_cancer/data/degree_hubs_group.csv\")"
   ]
  },
  {
   "cell_type": "markdown",
   "metadata": {},
   "source": [
    "# Z-test "
   ]
  },
  {
   "cell_type": "markdown",
   "metadata": {},
   "source": [
    "## Hubs"
   ]
  },
  {
   "cell_type": "code",
   "execution_count": 29,
   "metadata": {},
   "outputs": [
    {
     "name": "stdout",
     "output_type": "stream",
     "text": [
      "0\n",
      "H_0 not rejected with z_score: 0.30\n",
      "50\n",
      "H_0 not rejected with z_score: -1.16\n",
      "70\n",
      "H_0 not rejected with z_score: -1.50\n",
      "90\n",
      "H_0 rejected with z_score: -2.08\n",
      "95\n",
      "H_0 rejected with z_score: -2.38\n",
      "100\n",
      "H_0 rejected with z_score: -3.54\n"
     ]
    }
   ],
   "source": [
    "for lay in df_hubs.layer.unique():\n",
    "    print(lay)\n",
    "    mu_b = df_hubs.loc[(df_hubs.group=='B') & (df_hubs.layer==lay) & (df_hubs.tissue=='healthy'), 'degree'].mean()\n",
    "    std_b = df_hubs.loc[(df_hubs.group=='B') & (df_hubs.layer==lay) & (df_hubs.tissue=='healthy'), 'degree'].std()\n",
    "    mu_a = df_hubs.loc[(df_hubs.group=='A') & (df_hubs.layer==lay) & (df_hubs.tissue=='healthy'), 'degree'].mean()\n",
    "    Z_score = (mu_b - mu_a) / std_b\n",
    "    if abs(Z_score) > alpha:\n",
    "        print(f\"H_0 rejected with z_score: {Z_score:.2f}\")\n",
    "    else:\n",
    "        print(f\"H_0 not rejected with z_score: {Z_score:.2f}\")"
   ]
  },
  {
   "cell_type": "code",
   "execution_count": 30,
   "metadata": {},
   "outputs": [
    {
     "name": "stdout",
     "output_type": "stream",
     "text": [
      "0\n",
      "H_0 not rejected with z_score: 0.03\n",
      "50\n",
      "H_0 not rejected with z_score: -0.08\n",
      "70\n",
      "H_0 not rejected with z_score: -0.11\n",
      "90\n",
      "H_0 not rejected with z_score: -0.16\n",
      "95\n",
      "H_0 not rejected with z_score: -0.34\n",
      "100\n",
      "H_0 rejected with z_score: -2.56\n"
     ]
    }
   ],
   "source": [
    "for lay in df_hubs.layer.unique():\n",
    "    print(lay)\n",
    "    mu_b = df_hubs.loc[(df_hubs.group=='B') & (df_hubs.layer==lay) & (df_hubs.tissue=='basal'), 'degree'].mean()\n",
    "    std_b = df_hubs.loc[(df_hubs.group=='B') & (df_hubs.layer==lay) & (df_hubs.tissue=='basal'), 'degree'].std()\n",
    "    mu_a = df_hubs.loc[(df_hubs.group=='A') & (df_hubs.layer==lay) & (df_hubs.tissue=='basal'), 'degree'].mean()\n",
    "    Z_score = (mu_b - mu_a) / std_b\n",
    "    if abs(Z_score) > alpha:\n",
    "        print(f\"H_0 rejected with z_score: {Z_score:.2f}\")\n",
    "    else:\n",
    "        print(f\"H_0 not rejected with z_score: {Z_score:.2f}\")"
   ]
  },
  {
   "cell_type": "markdown",
   "metadata": {},
   "source": [
    "## Cores"
   ]
  },
  {
   "cell_type": "code",
   "execution_count": 33,
   "metadata": {},
   "outputs": [
    {
     "name": "stdout",
     "output_type": "stream",
     "text": [
      "0\n",
      "H_0 not rejected with z_score: 0.32\n",
      "50\n",
      "H_0 not rejected with z_score: -1.23\n",
      "70\n",
      "H_0 not rejected with z_score: -1.60\n",
      "90\n",
      "H_0 rejected with z_score: -2.28\n",
      "95\n",
      "H_0 rejected with z_score: -2.65\n",
      "100\n",
      "H_0 rejected with z_score: -4.78\n"
     ]
    }
   ],
   "source": [
    "for lay in df_cores.layer.unique():\n",
    "    print(lay)\n",
    "    mu_b = df_cores.loc[(df_cores.group=='B') & (df_cores.layer==lay) & (df_cores.tissue=='healthy'), 'degree'].mean()\n",
    "    std_b = df_cores.loc[(df_cores.group=='B') & (df_cores.layer==lay) & (df_cores.tissue=='healthy'), 'degree'].std()\n",
    "    mu_a = df_cores.loc[(df_cores.group=='A') & (df_cores.layer==lay) & (df_cores.tissue=='healthy'), 'degree'].mean()\n",
    "    Z_score = (mu_b - mu_a) / std_b\n",
    "    if abs(Z_score) > alpha:\n",
    "        print(f\"H_0 rejected with z_score: {Z_score:.2f}\")\n",
    "    else:\n",
    "        print(f\"H_0 not rejected with z_score: {Z_score:.2f}\")"
   ]
  },
  {
   "cell_type": "code",
   "execution_count": 34,
   "metadata": {},
   "outputs": [
    {
     "name": "stdout",
     "output_type": "stream",
     "text": [
      "0\n",
      "H_0 not rejected with z_score: 0.08\n",
      "50\n",
      "H_0 not rejected with z_score: 0.11\n",
      "70\n",
      "H_0 not rejected with z_score: -0.05\n",
      "90\n",
      "H_0 not rejected with z_score: -0.04\n",
      "95\n",
      "H_0 not rejected with z_score: -0.30\n",
      "100\n",
      "H_0 rejected with z_score: -2.72\n"
     ]
    }
   ],
   "source": [
    "for lay in df_cores.layer.unique():\n",
    "    print(lay)\n",
    "    mu_b = df_cores.loc[(df_cores.group=='B') & (df_cores.layer==lay) & (df_cores.tissue=='basal'), 'degree'].mean()\n",
    "    std_b = df_cores.loc[(df_cores.group=='B') & (df_cores.layer==lay) & (df_cores.tissue=='basal'), 'degree'].std()\n",
    "    mu_a = df_cores.loc[(df_cores.group=='A') & (df_cores.layer==lay) & (df_cores.tissue=='basal'), 'degree'].mean()\n",
    "    Z_score = (mu_b - mu_a) / std_b\n",
    "    if abs(Z_score) > alpha:\n",
    "        print(f\"H_0 rejected with z_score: {Z_score:.2f}\")\n",
    "    else:\n",
    "        print(f\"H_0 not rejected with z_score: {Z_score:.2f}\")"
   ]
  }
 ],
 "metadata": {
  "kernelspec": {
   "display_name": "Python 3",
   "language": "python",
   "name": "python3"
  },
  "language_info": {
   "codemirror_mode": {
    "name": "ipython",
    "version": 3
   },
   "file_extension": ".py",
   "mimetype": "text/x-python",
   "name": "python",
   "nbconvert_exporter": "python",
   "pygments_lexer": "ipython3",
   "version": "3.7.3"
  }
 },
 "nbformat": 4,
 "nbformat_minor": 2
}
