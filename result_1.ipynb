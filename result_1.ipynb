{
 "cells": [
  {
   "cell_type": "code",
   "execution_count": 18,
   "metadata": {},
   "outputs": [],
   "source": [
    "import pandas as pd\n",
    "import networkx as nx\n",
    "import numpy as np\n",
    "import matplotlib.pyplot as plt\n",
    "import seaborn as sns; sns.set(style='darkgrid')"
   ]
  },
  {
   "cell_type": "code",
   "execution_count": 2,
   "metadata": {},
   "outputs": [],
   "source": [
    "import matplotlib\n",
    "matplotlib.use('Agg')\n",
    "sns.set(rc={'text.usetex' : True})"
   ]
  },
  {
   "cell_type": "code",
   "execution_count": 34,
   "metadata": {},
   "outputs": [],
   "source": [
    "%matplotlib inline"
   ]
  },
  {
   "cell_type": "code",
   "execution_count": 3,
   "metadata": {},
   "outputs": [],
   "source": [
    "from sklearn import preprocessing\n",
    "\n",
    "from glob import glob\n",
    "from os.path import join"
   ]
  },
  {
   "cell_type": "code",
   "execution_count": 4,
   "metadata": {},
   "outputs": [],
   "source": [
    "from glob import glob"
   ]
  },
  {
   "cell_type": "code",
   "execution_count": 5,
   "metadata": {},
   "outputs": [],
   "source": [
    "from os import rename"
   ]
  },
  {
   "cell_type": "code",
   "execution_count": 6,
   "metadata": {},
   "outputs": [],
   "source": [
    "import matplotlib as mpl"
   ]
  },
  {
   "cell_type": "code",
   "execution_count": 17,
   "metadata": {},
   "outputs": [
    {
     "data": {
      "text/plain": [
       "12.0"
      ]
     },
     "execution_count": 17,
     "metadata": {},
     "output_type": "execute_result"
    }
   ],
   "source": [
    "mpl.rcParams['font.size']"
   ]
  },
  {
   "cell_type": "markdown",
   "metadata": {},
   "source": [
    "# Paths"
   ]
  },
  {
   "cell_type": "code",
   "execution_count": 20,
   "metadata": {},
   "outputs": [],
   "source": [
    "DATA = '/Users/rdora/breast_cancer/'\n",
    "FIG = '/Users/rdora/Dropbox/inmegen/breast_cancer/article/figures/'"
   ]
  },
  {
   "cell_type": "markdown",
   "metadata": {},
   "source": [
    "# Normalize\n",
    "\n",
    "We are going to normalize the MI values to be able to compare between healthy and cancer."
   ]
  },
  {
   "cell_type": "code",
   "execution_count": 89,
   "metadata": {},
   "outputs": [],
   "source": [
    "scaler = preprocessing.MaxAbsScaler()"
   ]
  },
  {
   "cell_type": "code",
   "execution_count": 73,
   "metadata": {},
   "outputs": [],
   "source": [
    "path = join(DATA, 'basal')\n",
    "for cutoff in range(-1, 101):\n",
    "    file_name = join(path, 'gene-range_{}.csv'.format(cutoff))\n",
    "    data = np.genfromtxt(file_name, dtype='unicode', delimiter=',')\n",
    "    if data.shape[1] == 4:\n",
    "        data = data[:, 1:]\n",
    "        np.savetxt(file_name, data, fmt='%s', delimiter=',')"
   ]
  },
  {
   "cell_type": "code",
   "execution_count": 114,
   "metadata": {},
   "outputs": [
    {
     "name": "stdout",
     "output_type": "stream",
     "text": [
      "healthy\n",
      "luma\n",
      "lumb\n",
      "her2\n",
      "basal\n"
     ]
    }
   ],
   "source": [
    "tissues = [\"healthy\",\n",
    "          \"luma\",\n",
    "          \"lumb\",\n",
    "          \"her2\",\n",
    "          \"basal\"]\n",
    "dfs = []\n",
    "for tissue in tissues:\n",
    "    print(tissue)\n",
    "    path = join(DATA, tissue)\n",
    "    mis = []\n",
    "    cutoffs = []\n",
    "    for cutoff in range(-1, 101):\n",
    "        file_name = join(path, 'gene-range_{}.csv'.format(cutoff))\n",
    "        data = np.genfromtxt(file_name, dtype='unicode', delimiter=',')\n",
    "        mi = data[1:, 1].astype('float')\n",
    "        mis.append(mi)\n",
    "        cutoffs.extend([cutoff for i in range(mi.shape[0])])\n",
    "    mi = np.concatenate(mis)\n",
    "    mi = mi.reshape(mi.shape[0], 1)\n",
    "    mi_scaled = scaler.fit_transform(mi)\n",
    "    df_scaled = pd.DataFrame(mi_scaled, columns=['mi'])\n",
    "    df_scaled['cutoff'] = cutoffs\n",
    "    df_scaled['tissue'] = tissue\n",
    "    dfs.append(df_scaled)\n",
    "df = pd.concat(dfs, axis=0)"
   ]
  },
  {
   "cell_type": "markdown",
   "metadata": {},
   "source": [
    "# Cis Ratio\n",
    "\n",
    "In this part we explore the _cis_ ratio of each co-expression layer in five different tissues."
   ]
  },
  {
   "cell_type": "code",
   "execution_count": 39,
   "metadata": {},
   "outputs": [],
   "source": [
    "# E. value was computed with uniform probability\n",
    "# for all gene-pairs.\n",
    "exp_val = 0.05"
   ]
  },
  {
   "cell_type": "code",
   "execution_count": 10,
   "metadata": {},
   "outputs": [],
   "source": [
    "cis_ratio = pd.read_csv(join(DATA, 'data', 'cis_ratio.csv'))\n",
    "cis_ratio = cis_ratio.rename(columns={\"Luminal-A\": \"Lum A\",\n",
    "                                     \"Luminal-B\": \"Lum B\"})"
   ]
  },
  {
   "cell_type": "code",
   "execution_count": 11,
   "metadata": {
    "scrolled": true
   },
   "outputs": [
    {
     "data": {
      "text/html": [
       "<div>\n",
       "<style scoped>\n",
       "    .dataframe tbody tr th:only-of-type {\n",
       "        vertical-align: middle;\n",
       "    }\n",
       "\n",
       "    .dataframe tbody tr th {\n",
       "        vertical-align: top;\n",
       "    }\n",
       "\n",
       "    .dataframe thead th {\n",
       "        text-align: right;\n",
       "    }\n",
       "</style>\n",
       "<table border=\"1\" class=\"dataframe\">\n",
       "  <thead>\n",
       "    <tr style=\"text-align: right;\">\n",
       "      <th></th>\n",
       "      <th>cutoff</th>\n",
       "      <th>Healthy</th>\n",
       "      <th>Basal</th>\n",
       "      <th>Lum A</th>\n",
       "      <th>Lum B</th>\n",
       "      <th>Her2</th>\n",
       "    </tr>\n",
       "  </thead>\n",
       "  <tbody>\n",
       "    <tr>\n",
       "      <th>0</th>\n",
       "      <td>low</td>\n",
       "      <td>0.053305</td>\n",
       "      <td>0.043491</td>\n",
       "      <td>0.043652</td>\n",
       "      <td>0.042835</td>\n",
       "      <td>0.045077</td>\n",
       "    </tr>\n",
       "    <tr>\n",
       "      <th>1</th>\n",
       "      <td>median</td>\n",
       "      <td>0.052879</td>\n",
       "      <td>0.047523</td>\n",
       "      <td>0.048873</td>\n",
       "      <td>0.048028</td>\n",
       "      <td>0.049206</td>\n",
       "    </tr>\n",
       "    <tr>\n",
       "      <th>2</th>\n",
       "      <td>0_1</td>\n",
       "      <td>0.054062</td>\n",
       "      <td>0.059659</td>\n",
       "      <td>0.059264</td>\n",
       "      <td>0.059383</td>\n",
       "      <td>0.058749</td>\n",
       "    </tr>\n",
       "    <tr>\n",
       "      <th>3</th>\n",
       "      <td>1_2</td>\n",
       "      <td>0.054790</td>\n",
       "      <td>0.059180</td>\n",
       "      <td>0.059548</td>\n",
       "      <td>0.059669</td>\n",
       "      <td>0.058584</td>\n",
       "    </tr>\n",
       "    <tr>\n",
       "      <th>4</th>\n",
       "      <td>2_3</td>\n",
       "      <td>0.053659</td>\n",
       "      <td>0.059935</td>\n",
       "      <td>0.060335</td>\n",
       "      <td>0.060705</td>\n",
       "      <td>0.059083</td>\n",
       "    </tr>\n",
       "  </tbody>\n",
       "</table>\n",
       "</div>"
      ],
      "text/plain": [
       "   cutoff   Healthy     Basal     Lum A     Lum B      Her2\n",
       "0     low  0.053305  0.043491  0.043652  0.042835  0.045077\n",
       "1  median  0.052879  0.047523  0.048873  0.048028  0.049206\n",
       "2     0_1  0.054062  0.059659  0.059264  0.059383  0.058749\n",
       "3     1_2  0.054790  0.059180  0.059548  0.059669  0.058584\n",
       "4     2_3  0.053659  0.059935  0.060335  0.060705  0.059083"
      ]
     },
     "execution_count": 11,
     "metadata": {},
     "output_type": "execute_result"
    }
   ],
   "source": [
    "cis_ratio.head()"
   ]
  },
  {
   "cell_type": "code",
   "execution_count": 12,
   "metadata": {},
   "outputs": [],
   "source": [
    "cis_ratio['Layer'] = list(range(-1, 101))"
   ]
  },
  {
   "cell_type": "code",
   "execution_count": 13,
   "metadata": {},
   "outputs": [],
   "source": [
    "# Table in tidy format\n",
    "cis_ratio_t = pd.melt(cis_ratio, id_vars='Layer', value_vars=['Healthy',\n",
    "                                    'Basal',\n",
    "                                    'Lum A',\n",
    "                                    'Lum B',\n",
    "                                    'Her2'],\n",
    "       var_name='Tissue', value_name='Cis ratio')"
   ]
  },
  {
   "cell_type": "code",
   "execution_count": 14,
   "metadata": {},
   "outputs": [
    {
     "data": {
      "text/html": [
       "<div>\n",
       "<style scoped>\n",
       "    .dataframe tbody tr th:only-of-type {\n",
       "        vertical-align: middle;\n",
       "    }\n",
       "\n",
       "    .dataframe tbody tr th {\n",
       "        vertical-align: top;\n",
       "    }\n",
       "\n",
       "    .dataframe thead th {\n",
       "        text-align: right;\n",
       "    }\n",
       "</style>\n",
       "<table border=\"1\" class=\"dataframe\">\n",
       "  <thead>\n",
       "    <tr style=\"text-align: right;\">\n",
       "      <th></th>\n",
       "      <th>cutoff</th>\n",
       "      <th>Healthy</th>\n",
       "      <th>Basal</th>\n",
       "      <th>Lum A</th>\n",
       "      <th>Lum B</th>\n",
       "      <th>Her2</th>\n",
       "      <th>Layer</th>\n",
       "    </tr>\n",
       "  </thead>\n",
       "  <tbody>\n",
       "    <tr>\n",
       "      <th>1</th>\n",
       "      <td>median</td>\n",
       "      <td>0.052879</td>\n",
       "      <td>0.047523</td>\n",
       "      <td>0.048873</td>\n",
       "      <td>0.048028</td>\n",
       "      <td>0.049206</td>\n",
       "      <td>0</td>\n",
       "    </tr>\n",
       "  </tbody>\n",
       "</table>\n",
       "</div>"
      ],
      "text/plain": [
       "   cutoff   Healthy     Basal     Lum A     Lum B      Her2  Layer\n",
       "1  median  0.052879  0.047523  0.048873  0.048028  0.049206      0"
      ]
     },
     "execution_count": 14,
     "metadata": {},
     "output_type": "execute_result"
    }
   ],
   "source": [
    "cis_ratio[cis_ratio.Layer == 0]"
   ]
  },
  {
   "cell_type": "markdown",
   "metadata": {},
   "source": [
    "# Use attribute assortativity instead"
   ]
  },
  {
   "cell_type": "code",
   "execution_count": 21,
   "metadata": {},
   "outputs": [],
   "source": [
    "params = pd.read_csv(join(DATA, 'data', 'netparams_tidy.csv'))"
   ]
  },
  {
   "cell_type": "code",
   "execution_count": 24,
   "metadata": {},
   "outputs": [],
   "source": [
    "params_attr = params[params.Param=='A.A']"
   ]
  },
  {
   "cell_type": "code",
   "execution_count": 29,
   "metadata": {},
   "outputs": [],
   "source": [
    "params_attr = params_attr.rename(columns={'Value': 'Attribute Assortativity'})"
   ]
  },
  {
   "cell_type": "code",
   "execution_count": 31,
   "metadata": {},
   "outputs": [
    {
     "data": {
      "text/html": [
       "<div>\n",
       "<style scoped>\n",
       "    .dataframe tbody tr th:only-of-type {\n",
       "        vertical-align: middle;\n",
       "    }\n",
       "\n",
       "    .dataframe tbody tr th {\n",
       "        vertical-align: top;\n",
       "    }\n",
       "\n",
       "    .dataframe thead th {\n",
       "        text-align: right;\n",
       "    }\n",
       "</style>\n",
       "<table border=\"1\" class=\"dataframe\">\n",
       "  <thead>\n",
       "    <tr style=\"text-align: right;\">\n",
       "      <th></th>\n",
       "      <th>Tissue</th>\n",
       "      <th>Layer</th>\n",
       "      <th>Param</th>\n",
       "      <th>Attribute Assortativity</th>\n",
       "    </tr>\n",
       "  </thead>\n",
       "  <tbody>\n",
       "    <tr>\n",
       "      <th>1530</th>\n",
       "      <td>Healthy</td>\n",
       "      <td>94</td>\n",
       "      <td>A.A</td>\n",
       "      <td>0.010280</td>\n",
       "    </tr>\n",
       "    <tr>\n",
       "      <th>1531</th>\n",
       "      <td>Healthy</td>\n",
       "      <td>84</td>\n",
       "      <td>A.A</td>\n",
       "      <td>0.005484</td>\n",
       "    </tr>\n",
       "    <tr>\n",
       "      <th>1532</th>\n",
       "      <td>Healthy</td>\n",
       "      <td>50</td>\n",
       "      <td>A.A</td>\n",
       "      <td>0.002747</td>\n",
       "    </tr>\n",
       "    <tr>\n",
       "      <th>1533</th>\n",
       "      <td>Healthy</td>\n",
       "      <td>70</td>\n",
       "      <td>A.A</td>\n",
       "      <td>0.003017</td>\n",
       "    </tr>\n",
       "    <tr>\n",
       "      <th>1534</th>\n",
       "      <td>Healthy</td>\n",
       "      <td>30</td>\n",
       "      <td>A.A</td>\n",
       "      <td>0.002048</td>\n",
       "    </tr>\n",
       "  </tbody>\n",
       "</table>\n",
       "</div>"
      ],
      "text/plain": [
       "       Tissue  Layer Param  Attribute Assortativity\n",
       "1530  Healthy     94   A.A                 0.010280\n",
       "1531  Healthy     84   A.A                 0.005484\n",
       "1532  Healthy     50   A.A                 0.002747\n",
       "1533  Healthy     70   A.A                 0.003017\n",
       "1534  Healthy     30   A.A                 0.002048"
      ]
     },
     "execution_count": 31,
     "metadata": {},
     "output_type": "execute_result"
    }
   ],
   "source": [
    "params_attr.head()"
   ]
  },
  {
   "cell_type": "markdown",
   "metadata": {},
   "source": [
    "## Visualization"
   ]
  },
  {
   "cell_type": "code",
   "execution_count": 32,
   "metadata": {},
   "outputs": [],
   "source": [
    "colors = ['#6aabd1', '#b63b2e', '#363441', '#ab9b93', '#abd16a']\n",
    "pal = sns.color_palette(colors)"
   ]
  },
  {
   "cell_type": "code",
   "execution_count": 35,
   "metadata": {},
   "outputs": [
    {
     "data": {
      "image/png": "[encoded data removed]",
      "text/plain": [
       "<Figure size 360x72 with 1 Axes>"
      ]
     },
     "metadata": {
      "needs_background": "light"
     },
     "output_type": "display_data"
    }
   ],
   "source": [
    "sns.palplot(pal)"
   ]
  },
  {
   "cell_type": "code",
   "execution_count": 37,
   "metadata": {},
   "outputs": [],
   "source": [
    "hue_order = [\"Healthy\",\n",
    "            \"Lum A\",\n",
    "            \"Lum B\",\n",
    "            \"Her2\",\n",
    "            \"Basal\"]"
   ]
  },
  {
   "cell_type": "code",
   "execution_count": 41,
   "metadata": {},
   "outputs": [
    {
     "data": {
      "image/png": "[encoded data removed]",
      "text/plain": [
       "<Figure size 864x432 with 1 Axes>"
      ]
     },
     "metadata": {
      "needs_background": "light"
     },
     "output_type": "display_data"
    }
   ],
   "source": [
    "fig, ax = plt.subplots(figsize=(12, 6))\n",
    "sns.scatterplot(x=r'Layer', y=r'Attribute Assortativity',\n",
    "                palette=pal,\n",
    "                hue='Tissue',\n",
    "                hue_order=hue_order,\n",
    "                data=params_attr,\n",
    "               edgecolor=None,\n",
    "               s=10,\n",
    "               alpha=0.7,\n",
    "               ax=ax)\n",
    "# ax.axhline(exp_val, color='k', linestyle='--')\n",
    "fig.savefig(join(FIG, 'attribute_assortativity.png'), dpi=300)"
   ]
  }
 ],
 "metadata": {
  "kernelspec": {
   "display_name": "Python 3",
   "language": "python",
   "name": "python3"
  },
  "language_info": {
   "codemirror_mode": {
    "name": "ipython",
    "version": 3
   },
   "file_extension": ".py",
   "mimetype": "text/x-python",
   "name": "python",
   "nbconvert_exporter": "python",
   "pygments_lexer": "ipython3",
   "version": "3.7.3"
  }
 },
 "nbformat": 4,
 "nbformat_minor": 2
}
