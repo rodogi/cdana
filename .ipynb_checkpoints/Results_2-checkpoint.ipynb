{
 "cells": [
  {
   "cell_type": "markdown",
   "metadata": {},
   "source": [
    "# Network Parameters"
   ]
  },
  {
   "cell_type": "code",
   "execution_count": 3,
   "metadata": {},
   "outputs": [],
   "source": [
    "import pandas as pd\n",
    "import numpy as np\n",
    "import matplotlib.pyplot as plt\n",
    "import seaborn as sns; sns.set(style='darkgrid')"
   ]
  },
  {
   "cell_type": "code",
   "execution_count": 91,
   "metadata": {},
   "outputs": [],
   "source": [
    "import matplotlib\n",
    "matplotlib.use('Agg')\n",
    "sns.set(rc={'text.usetex' : True})"
   ]
  },
  {
   "cell_type": "code",
   "execution_count": 95,
   "metadata": {},
   "outputs": [],
   "source": [
    "matplotlib.rcParams['font.family'] = 'sans-serif'"
   ]
  },
  {
   "cell_type": "code",
   "execution_count": 2,
   "metadata": {},
   "outputs": [],
   "source": [
    "from glob import glob\n",
    "from os.path import join"
   ]
  },
  {
   "cell_type": "code",
   "execution_count": 146,
   "metadata": {},
   "outputs": [],
   "source": [
    "import scipy.stats"
   ]
  },
  {
   "cell_type": "code",
   "execution_count": 174,
   "metadata": {},
   "outputs": [],
   "source": [
    "import statsmodels.api as sm"
   ]
  },
  {
   "cell_type": "markdown",
   "metadata": {},
   "source": [
    "#### Outline\n",
    "\n",
    " * Create a general tidy dataframe\n",
    " * Create a Grid figure with structural params per cutoff\n",
    " * Create a figure with linear regression in all tissues between degree and attribute assortativity"
   ]
  },
  {
   "cell_type": "markdown",
   "metadata": {},
   "source": [
    "## Tidy DataFrame"
   ]
  },
  {
   "cell_type": "code",
   "execution_count": 97,
   "metadata": {},
   "outputs": [],
   "source": [
    "DATA = \"/Users/rdora/breast_cancer/data\"\n",
    "FIG = '/Users/rdora/Dropbox/inmegen/breast_cancer/article/figures/'\n",
    "# Tables with network parameters are scattered\n",
    "# around table_{TISSUE NAME}\n",
    "tissues = ['healthy',\n",
    "          'luma',\n",
    "          'lumb',\n",
    "          'her2',\n",
    "          'basal']\n",
    "params = ['cutoff',\n",
    "         'dmean',\n",
    "         'dstd',\n",
    "         'ass',\n",
    "         'ass_attr',\n",
    "         'size']"
   ]
  },
  {
   "cell_type": "code",
   "execution_count": 72,
   "metadata": {},
   "outputs": [],
   "source": [
    "dfs = []\n",
    "for tissue in tissues:\n",
    "    df = pd.read_csv(join(DATA, 'table_{}.csv'.format(tissue)))\n",
    "    df = df[params]\n",
    "    df = df.rename(columns={'cutoff': 'Layer',\n",
    "                      'dmean': 'Mean Deg',\n",
    "                      'dstd': 'Std Deg',\n",
    "                      'ass': 'D.A',\n",
    "                      'ass_attr': 'A.A',\n",
    "                      'size': 'Size'})\n",
    "    if tissue == 'healthy':\n",
    "        tissue = 'Healthy'\n",
    "    elif tissue == 'luma':\n",
    "        tissue = 'Lum A'\n",
    "    elif tissue == 'lumb':\n",
    "        tissue = 'Lum B'\n",
    "    elif tissue == 'her2':\n",
    "        tissue = 'Her2'\n",
    "    else:\n",
    "        tissue = 'Basal'\n",
    "    df['Tissue'] = tissue\n",
    "    dfs.append(df)\n",
    "df = pd.concat(dfs, axis=0)"
   ]
  },
  {
   "cell_type": "code",
   "execution_count": 77,
   "metadata": {},
   "outputs": [],
   "source": [
    "df = df.replace('median', '0')\n",
    "df = df.replace('low', '-1')\n",
    "df['Layer'] = df['Layer'].astype(int)"
   ]
  },
  {
   "cell_type": "code",
   "execution_count": 78,
   "metadata": {},
   "outputs": [
    {
     "data": {
      "text/html": [
       "<div>\n",
       "<style scoped>\n",
       "    .dataframe tbody tr th:only-of-type {\n",
       "        vertical-align: middle;\n",
       "    }\n",
       "\n",
       "    .dataframe tbody tr th {\n",
       "        vertical-align: top;\n",
       "    }\n",
       "\n",
       "    .dataframe thead th {\n",
       "        text-align: right;\n",
       "    }\n",
       "</style>\n",
       "<table border=\"1\" class=\"dataframe\">\n",
       "  <thead>\n",
       "    <tr style=\"text-align: right;\">\n",
       "      <th></th>\n",
       "      <th>Layer</th>\n",
       "      <th>Mean Deg</th>\n",
       "      <th>Std Deg</th>\n",
       "      <th>D.A</th>\n",
       "      <th>A.A</th>\n",
       "      <th>Size</th>\n",
       "      <th>Tissue</th>\n",
       "    </tr>\n",
       "  </thead>\n",
       "  <tbody>\n",
       "    <tr>\n",
       "      <th>0</th>\n",
       "      <td>94</td>\n",
       "      <td>14.792599</td>\n",
       "      <td>10.830995</td>\n",
       "      <td>0.144910</td>\n",
       "      <td>0.010280</td>\n",
       "      <td>14161</td>\n",
       "      <td>Healthy</td>\n",
       "    </tr>\n",
       "    <tr>\n",
       "      <th>1</th>\n",
       "      <td>84</td>\n",
       "      <td>14.549243</td>\n",
       "      <td>8.244891</td>\n",
       "      <td>0.094900</td>\n",
       "      <td>0.005484</td>\n",
       "      <td>14398</td>\n",
       "      <td>Healthy</td>\n",
       "    </tr>\n",
       "    <tr>\n",
       "      <th>2</th>\n",
       "      <td>50</td>\n",
       "      <td>14.477711</td>\n",
       "      <td>5.709854</td>\n",
       "      <td>0.043044</td>\n",
       "      <td>0.002747</td>\n",
       "      <td>14469</td>\n",
       "      <td>Healthy</td>\n",
       "    </tr>\n",
       "    <tr>\n",
       "      <th>3</th>\n",
       "      <td>70</td>\n",
       "      <td>14.494707</td>\n",
       "      <td>6.767300</td>\n",
       "      <td>0.068603</td>\n",
       "      <td>0.003017</td>\n",
       "      <td>14453</td>\n",
       "      <td>Healthy</td>\n",
       "    </tr>\n",
       "    <tr>\n",
       "      <th>4</th>\n",
       "      <td>30</td>\n",
       "      <td>14.479928</td>\n",
       "      <td>5.193934</td>\n",
       "      <td>0.026176</td>\n",
       "      <td>0.002048</td>\n",
       "      <td>14473</td>\n",
       "      <td>Healthy</td>\n",
       "    </tr>\n",
       "  </tbody>\n",
       "</table>\n",
       "</div>"
      ],
      "text/plain": [
       "   Layer   Mean Deg    Std Deg       D.A       A.A   Size   Tissue\n",
       "0     94  14.792599  10.830995  0.144910  0.010280  14161  Healthy\n",
       "1     84  14.549243   8.244891  0.094900  0.005484  14398  Healthy\n",
       "2     50  14.477711   5.709854  0.043044  0.002747  14469  Healthy\n",
       "3     70  14.494707   6.767300  0.068603  0.003017  14453  Healthy\n",
       "4     30  14.479928   5.193934  0.026176  0.002048  14473  Healthy"
      ]
     },
     "execution_count": 78,
     "metadata": {},
     "output_type": "execute_result"
    }
   ],
   "source": [
    "df.head()"
   ]
  },
  {
   "cell_type": "code",
   "execution_count": 81,
   "metadata": {},
   "outputs": [],
   "source": [
    "df_tidy = pd.melt(df, id_vars=[\"Tissue\", \"Layer\"],\n",
    "                 value_vars=[\"Mean Deg\",\n",
    "                             \"Std Deg\",\n",
    "                             \"D.A\",\n",
    "                             \"A.A\",\n",
    "                             \"Size\"],\n",
    "                 var_name=\"Param\",\n",
    "                 value_name=\"Value\")"
   ]
  },
  {
   "cell_type": "code",
   "execution_count": 75,
   "metadata": {},
   "outputs": [
    {
     "data": {
      "text/html": [
       "<div>\n",
       "<style scoped>\n",
       "    .dataframe tbody tr th:only-of-type {\n",
       "        vertical-align: middle;\n",
       "    }\n",
       "\n",
       "    .dataframe tbody tr th {\n",
       "        vertical-align: top;\n",
       "    }\n",
       "\n",
       "    .dataframe thead th {\n",
       "        text-align: right;\n",
       "    }\n",
       "</style>\n",
       "<table border=\"1\" class=\"dataframe\">\n",
       "  <thead>\n",
       "    <tr style=\"text-align: right;\">\n",
       "      <th></th>\n",
       "      <th>Tissue</th>\n",
       "      <th>Layer</th>\n",
       "      <th>Param</th>\n",
       "      <th>Value</th>\n",
       "    </tr>\n",
       "  </thead>\n",
       "  <tbody>\n",
       "    <tr>\n",
       "      <th>0</th>\n",
       "      <td>Healthy</td>\n",
       "      <td>94</td>\n",
       "      <td>Mean Deg</td>\n",
       "      <td>14.792599</td>\n",
       "    </tr>\n",
       "    <tr>\n",
       "      <th>1</th>\n",
       "      <td>Healthy</td>\n",
       "      <td>84</td>\n",
       "      <td>Mean Deg</td>\n",
       "      <td>14.549243</td>\n",
       "    </tr>\n",
       "    <tr>\n",
       "      <th>2</th>\n",
       "      <td>Healthy</td>\n",
       "      <td>50</td>\n",
       "      <td>Mean Deg</td>\n",
       "      <td>14.477711</td>\n",
       "    </tr>\n",
       "    <tr>\n",
       "      <th>3</th>\n",
       "      <td>Healthy</td>\n",
       "      <td>70</td>\n",
       "      <td>Mean Deg</td>\n",
       "      <td>14.494707</td>\n",
       "    </tr>\n",
       "    <tr>\n",
       "      <th>4</th>\n",
       "      <td>Healthy</td>\n",
       "      <td>30</td>\n",
       "      <td>Mean Deg</td>\n",
       "      <td>14.479928</td>\n",
       "    </tr>\n",
       "  </tbody>\n",
       "</table>\n",
       "</div>"
      ],
      "text/plain": [
       "    Tissue Layer     Param      Value\n",
       "0  Healthy    94  Mean Deg  14.792599\n",
       "1  Healthy    84  Mean Deg  14.549243\n",
       "2  Healthy    50  Mean Deg  14.477711\n",
       "3  Healthy    70  Mean Deg  14.494707\n",
       "4  Healthy    30  Mean Deg  14.479928"
      ]
     },
     "execution_count": 75,
     "metadata": {},
     "output_type": "execute_result"
    }
   ],
   "source": [
    "df_tidy.head()"
   ]
  },
  {
   "cell_type": "code",
   "execution_count": 191,
   "metadata": {},
   "outputs": [],
   "source": [
    "df_tidy.to_csv(join(DATA, 'netparams_tidy.csv'), index=False)"
   ]
  },
  {
   "cell_type": "markdown",
   "metadata": {},
   "source": [
    "## Table\n",
    "Get the variance of each parameter per tissue."
   ]
  },
  {
   "cell_type": "code",
   "execution_count": 62,
   "metadata": {},
   "outputs": [
    {
     "data": {
      "text/html": [
       "<div>\n",
       "<style scoped>\n",
       "    .dataframe tbody tr th:only-of-type {\n",
       "        vertical-align: middle;\n",
       "    }\n",
       "\n",
       "    .dataframe tbody tr th {\n",
       "        vertical-align: top;\n",
       "    }\n",
       "\n",
       "    .dataframe thead th {\n",
       "        text-align: right;\n",
       "    }\n",
       "</style>\n",
       "<table border=\"1\" class=\"dataframe\">\n",
       "  <thead>\n",
       "    <tr style=\"text-align: right;\">\n",
       "      <th></th>\n",
       "      <th>Mean Degree</th>\n",
       "      <th>Degree Std</th>\n",
       "      <th>Deg. Assortativity</th>\n",
       "      <th>Attr. Assortativity</th>\n",
       "      <th>Size</th>\n",
       "    </tr>\n",
       "    <tr>\n",
       "      <th>Tissue</th>\n",
       "      <th></th>\n",
       "      <th></th>\n",
       "      <th></th>\n",
       "      <th></th>\n",
       "      <th></th>\n",
       "    </tr>\n",
       "  </thead>\n",
       "  <tbody>\n",
       "    <tr>\n",
       "      <th>Basal</th>\n",
       "      <td>0.196186</td>\n",
       "      <td>2.275993</td>\n",
       "      <td>0.002738</td>\n",
       "      <td>0.016400</td>\n",
       "      <td>114940.245486</td>\n",
       "    </tr>\n",
       "    <tr>\n",
       "      <th>Healthy</th>\n",
       "      <td>0.108674</td>\n",
       "      <td>8.520352</td>\n",
       "      <td>0.002473</td>\n",
       "      <td>0.000017</td>\n",
       "      <td>81790.442341</td>\n",
       "    </tr>\n",
       "    <tr>\n",
       "      <th>Her2</th>\n",
       "      <td>0.000633</td>\n",
       "      <td>1.405193</td>\n",
       "      <td>0.002993</td>\n",
       "      <td>0.006057</td>\n",
       "      <td>593.179674</td>\n",
       "    </tr>\n",
       "    <tr>\n",
       "      <th>Luminal-A</th>\n",
       "      <td>0.044520</td>\n",
       "      <td>3.714312</td>\n",
       "      <td>0.004820</td>\n",
       "      <td>0.009756</td>\n",
       "      <td>33824.074160</td>\n",
       "    </tr>\n",
       "    <tr>\n",
       "      <th>Luminal-B</th>\n",
       "      <td>0.142935</td>\n",
       "      <td>3.249162</td>\n",
       "      <td>0.003861</td>\n",
       "      <td>0.013943</td>\n",
       "      <td>89582.143758</td>\n",
       "    </tr>\n",
       "  </tbody>\n",
       "</table>\n",
       "</div>"
      ],
      "text/plain": [
       "           Mean Degree  Degree Std  Deg. Assortativity  Attr. Assortativity  \\\n",
       "Tissue                                                                        \n",
       "Basal         0.196186    2.275993            0.002738             0.016400   \n",
       "Healthy       0.108674    8.520352            0.002473             0.000017   \n",
       "Her2          0.000633    1.405193            0.002993             0.006057   \n",
       "Luminal-A     0.044520    3.714312            0.004820             0.009756   \n",
       "Luminal-B     0.142935    3.249162            0.003861             0.013943   \n",
       "\n",
       "                    Size  \n",
       "Tissue                    \n",
       "Basal      114940.245486  \n",
       "Healthy     81790.442341  \n",
       "Her2          593.179674  \n",
       "Luminal-A   33824.074160  \n",
       "Luminal-B   89582.143758  "
      ]
     },
     "execution_count": 62,
     "metadata": {},
     "output_type": "execute_result"
    }
   ],
   "source": [
    "df.groupby('Tissue').var().drop('Layer', axis=1)"
   ]
  },
  {
   "cell_type": "code",
   "execution_count": 64,
   "metadata": {},
   "outputs": [
    {
     "data": {
      "text/html": [
       "<div>\n",
       "<style scoped>\n",
       "    .dataframe tbody tr th:only-of-type {\n",
       "        vertical-align: middle;\n",
       "    }\n",
       "\n",
       "    .dataframe tbody tr th {\n",
       "        vertical-align: top;\n",
       "    }\n",
       "\n",
       "    .dataframe thead th {\n",
       "        text-align: right;\n",
       "    }\n",
       "</style>\n",
       "<table border=\"1\" class=\"dataframe\">\n",
       "  <thead>\n",
       "    <tr style=\"text-align: right;\">\n",
       "      <th></th>\n",
       "      <th>Mean Degree</th>\n",
       "      <th>Degree Std</th>\n",
       "      <th>Deg. Assortativity</th>\n",
       "      <th>Attr. Assortativity</th>\n",
       "      <th>Size</th>\n",
       "    </tr>\n",
       "    <tr>\n",
       "      <th>Tissue</th>\n",
       "      <th></th>\n",
       "      <th></th>\n",
       "      <th></th>\n",
       "      <th></th>\n",
       "      <th></th>\n",
       "    </tr>\n",
       "  </thead>\n",
       "  <tbody>\n",
       "    <tr>\n",
       "      <th>Basal</th>\n",
       "      <td>0.001142</td>\n",
       "      <td>0.588022</td>\n",
       "      <td>0.001268</td>\n",
       "      <td>0.007793</td>\n",
       "      <td>1045.588317</td>\n",
       "    </tr>\n",
       "    <tr>\n",
       "      <th>Healthy</th>\n",
       "      <td>0.034729</td>\n",
       "      <td>4.777966</td>\n",
       "      <td>0.001889</td>\n",
       "      <td>0.000010</td>\n",
       "      <td>30330.197822</td>\n",
       "    </tr>\n",
       "    <tr>\n",
       "      <th>Her2</th>\n",
       "      <td>0.000019</td>\n",
       "      <td>0.132776</td>\n",
       "      <td>0.000544</td>\n",
       "      <td>0.001321</td>\n",
       "      <td>0.029109</td>\n",
       "    </tr>\n",
       "    <tr>\n",
       "      <th>Luminal-A</th>\n",
       "      <td>0.000141</td>\n",
       "      <td>0.768009</td>\n",
       "      <td>0.001437</td>\n",
       "      <td>0.003396</td>\n",
       "      <td>100.694851</td>\n",
       "    </tr>\n",
       "    <tr>\n",
       "      <th>Luminal-B</th>\n",
       "      <td>0.000327</td>\n",
       "      <td>0.727575</td>\n",
       "      <td>0.001779</td>\n",
       "      <td>0.005869</td>\n",
       "      <td>276.454257</td>\n",
       "    </tr>\n",
       "  </tbody>\n",
       "</table>\n",
       "</div>"
      ],
      "text/plain": [
       "           Mean Degree  Degree Std  Deg. Assortativity  Attr. Assortativity  \\\n",
       "Tissue                                                                        \n",
       "Basal         0.001142    0.588022            0.001268             0.007793   \n",
       "Healthy       0.034729    4.777966            0.001889             0.000010   \n",
       "Her2          0.000019    0.132776            0.000544             0.001321   \n",
       "Luminal-A     0.000141    0.768009            0.001437             0.003396   \n",
       "Luminal-B     0.000327    0.727575            0.001779             0.005869   \n",
       "\n",
       "                   Size  \n",
       "Tissue                   \n",
       "Basal       1045.588317  \n",
       "Healthy    30330.197822  \n",
       "Her2           0.029109  \n",
       "Luminal-A    100.694851  \n",
       "Luminal-B    276.454257  "
      ]
     },
     "execution_count": 64,
     "metadata": {},
     "output_type": "execute_result"
    }
   ],
   "source": [
    "# All but the layer with largests co-expression\n",
    "df[df.Layer < 100].groupby('Tissue').var().drop('Layer', axis=1)"
   ]
  },
  {
   "cell_type": "markdown",
   "metadata": {},
   "source": [
    "## Correlation cis ratio and attribute assortativity"
   ]
  },
  {
   "cell_type": "code",
   "execution_count": 130,
   "metadata": {},
   "outputs": [],
   "source": [
    "cis_ratio = pd.read_csv(join(DATA, 'cis_ratio.csv'))\n",
    "cis_ratio = cis_ratio.rename(columns={\"Luminal-A\": \"Lum A\",\n",
    "                                     \"Luminal-B\": \"Lum B\"})\n",
    "cis_ratio['Layer'] = list(range(-1, 101))\n",
    "cis_ratio = cis_ratio.drop('cutoff', axis=1)"
   ]
  },
  {
   "cell_type": "code",
   "execution_count": 170,
   "metadata": {},
   "outputs": [
    {
     "name": "stdout",
     "output_type": "stream",
     "text": [
      "Mean correlation: 0.999798\n"
     ]
    }
   ],
   "source": [
    "corrs = []\n",
    "for tissue in ['Healthy', 'Lum A', 'Lum B', 'Her2', 'Basal']:\n",
    "    attr_ass = df[df.Tissue==tissue].sort_values(by='Layer')['A.A'].values\n",
    "    cr = cis_ratio.sort_values(by='Layer')[tissue].values\n",
    "    corrs.append(scipy.stats.pearsonr(attr_ass, cr)[0])\n",
    "print(\"Mean correlation: {:f}\".format(np.mean(corrs)))"
   ]
  },
  {
   "cell_type": "markdown",
   "metadata": {},
   "source": [
    "## Correlation degree and attribute assortativity\n",
    "\n",
    "Get mean pearson correlation between attribute assortativity (A.A) and\n",
    "degree assortativity (D.A) within cancer tissues."
   ]
  },
  {
   "cell_type": "code",
   "execution_count": 171,
   "metadata": {},
   "outputs": [
    {
     "name": "stdout",
     "output_type": "stream",
     "text": [
      "Mean correlation all tissues: 0.997176\n"
     ]
    }
   ],
   "source": [
    "corrs = []\n",
    "for tissue in tissues:\n",
    "    corrs.append(df[df.Tissue == 'Basal'].corr().loc['A.A', 'D.A'].item())\n",
    "print(\"Mean correlation all tissues: {:f}\".format(np.mean(corrs)))"
   ]
  },
  {
   "cell_type": "code",
   "execution_count": 173,
   "metadata": {},
   "outputs": [
    {
     "name": "stdout",
     "output_type": "stream",
     "text": [
      "Correlation Healthy: 0.951459\n"
     ]
    }
   ],
   "source": [
    "# Let's get the healthy equivalent\n",
    "c = df[df.Tissue == 'Healthy'].corr().loc['A.A', 'D.A'].item()\n",
    "print(\"Correlation Healthy: {:f}\".format(c))"
   ]
  },
  {
   "cell_type": "markdown",
   "metadata": {},
   "source": [
    "# Visualization"
   ]
  },
  {
   "cell_type": "code",
   "execution_count": 6,
   "metadata": {},
   "outputs": [],
   "source": [
    "colors = ['#6aabd1', '#b63b2e', '#363441', '#ab9b93', '#abd16a']\n",
    "pal = sns.color_palette(colors)\n",
    "\n",
    "sns.palplot(pal)"
   ]
  },
  {
   "cell_type": "markdown",
   "metadata": {},
   "source": [
    "## Grid plot with network parameters"
   ]
  },
  {
   "cell_type": "code",
   "execution_count": 86,
   "metadata": {},
   "outputs": [],
   "source": [
    "hue_order = [\"Healthy\",\n",
    "            \"Lum A\",\n",
    "            \"Lum B\",\n",
    "            \"Her2\",\n",
    "            \"Basal\"]"
   ]
  },
  {
   "cell_type": "code",
   "execution_count": 100,
   "metadata": {},
   "outputs": [
    {
     "data": {
      "image/png": "[encoded data removed]",
      "text/plain": [
       "<Figure size 1080x1080 with 25 Axes>"
      ]
     },
     "metadata": {},
     "output_type": "display_data"
    }
   ],
   "source": [
    "g = sns.FacetGrid(df_tidy, col=\"Tissue\", row=\"Param\", hue=\"Tissue\",\n",
    "                 hue_order=hue_order, sharex=True, sharey=\"row\", palette=pal)\n",
    "g.map(plt.scatter, \"Layer\", \"Value\")\n",
    "g.savefig(join(FIG, 'facet_grid_param.png'), dpi=300)"
   ]
  },
  {
   "cell_type": "markdown",
   "metadata": {},
   "source": [
    "## Regression plot attribute assortativity and degree assortativity"
   ]
  },
  {
   "cell_type": "code",
   "execution_count": 187,
   "metadata": {},
   "outputs": [],
   "source": [
    "sns.regplot?"
   ]
  },
  {
   "cell_type": "code",
   "execution_count": 189,
   "metadata": {},
   "outputs": [
    {
     "data": {
      "image/png": "[encoded data removed]",
      "text/plain": [
       "<Figure size 1080x216 with 5 Axes>"
      ]
     },
     "metadata": {},
     "output_type": "display_data"
    }
   ],
   "source": [
    "g = sns.FacetGrid(df, col=\"Tissue\", hue=\"Tissue\",\n",
    "                 hue_order=hue_order, sharex=True, sharey=\"row\", palette=pal)\n",
    "g.map(sns.regplot, 'A.A', 'D.A', ci=None)\n",
    "g.savefig(join(FIG, 'regplot_ass_ass_attr.png'), dpi=300)"
   ]
  },
  {
   "cell_type": "markdown",
   "metadata": {},
   "source": [
    "### Slopes of the models"
   ]
  },
  {
   "cell_type": "code",
   "execution_count": 186,
   "metadata": {},
   "outputs": [
    {
     "name": "stdout",
     "output_type": "stream",
     "text": [
      "Slope for Healthy: 13.14\n",
      "Slope for Lum A: 0.71\n",
      "Slope for Lum B: 0.51\n",
      "Slope for Her2: 0.67\n",
      "Slope for Basal: 0.41\n"
     ]
    }
   ],
   "source": [
    "for tissue in ['Healthy', 'Lum A', 'Lum B', 'Her2', 'Basal']:\n",
    "    X = df.loc[df.Tissue==tissue, 'A.A'].values\n",
    "    Y = df.loc[df.Tissue==tissue, 'D.A'].values\n",
    "    model = sm.OLS(Y, X).fit()\n",
    "\n",
    "    print(\"Slope for {0}: {1:.2f}\".format(tissue, model.params[0]))"
   ]
  },
  {
   "cell_type": "code",
   "execution_count": 182,
   "metadata": {},
   "outputs": [
    {
     "data": {
      "text/html": [
       "<table class=\"simpletable\">\n",
       "<caption>OLS Regression Results</caption>\n",
       "<tr>\n",
       "  <th>Dep. Variable:</th>            <td>y</td>        <th>  R-squared:         </th> <td>   1.000</td> \n",
       "</tr>\n",
       "<tr>\n",
       "  <th>Model:</th>                   <td>OLS</td>       <th>  Adj. R-squared:    </th> <td>   1.000</td> \n",
       "</tr>\n",
       "<tr>\n",
       "  <th>Method:</th>             <td>Least Squares</td>  <th>  F-statistic:       </th> <td>3.800e+33</td>\n",
       "</tr>\n",
       "<tr>\n",
       "  <th>Date:</th>             <td>Thu, 03 Oct 2019</td> <th>  Prob (F-statistic):</th>  <td>  0.00</td>  \n",
       "</tr>\n",
       "<tr>\n",
       "  <th>Time:</th>                 <td>19:21:42</td>     <th>  Log-Likelihood:    </th> <td>  4092.2</td> \n",
       "</tr>\n",
       "<tr>\n",
       "  <th>No. Observations:</th>      <td>   102</td>      <th>  AIC:               </th> <td>  -8182.</td> \n",
       "</tr>\n",
       "<tr>\n",
       "  <th>Df Residuals:</th>          <td>   101</td>      <th>  BIC:               </th> <td>  -8180.</td> \n",
       "</tr>\n",
       "<tr>\n",
       "  <th>Df Model:</th>              <td>     1</td>      <th>                     </th>     <td> </td>    \n",
       "</tr>\n",
       "<tr>\n",
       "  <th>Covariance Type:</th>      <td>nonrobust</td>    <th>                     </th>     <td> </td>    \n",
       "</tr>\n",
       "</table>\n",
       "<table class=\"simpletable\">\n",
       "<tr>\n",
       "   <td></td>     <th>coef</th>     <th>std err</th>      <th>t</th>      <th>P>|t|</th>  <th>[0.025</th>    <th>0.975]</th>  \n",
       "</tr>\n",
       "<tr>\n",
       "  <th>x1</th> <td>    1.0000</td> <td> 1.62e-17</td> <td> 6.16e+16</td> <td> 0.000</td> <td>    1.000</td> <td>    1.000</td>\n",
       "</tr>\n",
       "</table>\n",
       "<table class=\"simpletable\">\n",
       "<tr>\n",
       "  <th>Omnibus:</th>       <td>74.454</td> <th>  Durbin-Watson:     </th> <td>   1.142</td>\n",
       "</tr>\n",
       "<tr>\n",
       "  <th>Prob(Omnibus):</th> <td> 0.000</td> <th>  Jarque-Bera (JB):  </th> <td> 351.208</td>\n",
       "</tr>\n",
       "<tr>\n",
       "  <th>Skew:</th>          <td> 2.566</td> <th>  Prob(JB):          </th> <td>5.45e-77</td>\n",
       "</tr>\n",
       "<tr>\n",
       "  <th>Kurtosis:</th>      <td>10.503</td> <th>  Cond. No.          </th> <td>    1.00</td>\n",
       "</tr>\n",
       "</table><br/><br/>Warnings:<br/>[1] Standard Errors assume that the covariance matrix of the errors is correctly specified."
      ],
      "text/plain": [
       "<class 'statsmodels.iolib.summary.Summary'>\n",
       "\"\"\"\n",
       "                            OLS Regression Results                            \n",
       "==============================================================================\n",
       "Dep. Variable:                      y   R-squared:                       1.000\n",
       "Model:                            OLS   Adj. R-squared:                  1.000\n",
       "Method:                 Least Squares   F-statistic:                 3.800e+33\n",
       "Date:                Thu, 03 Oct 2019   Prob (F-statistic):               0.00\n",
       "Time:                        19:21:42   Log-Likelihood:                 4092.2\n",
       "No. Observations:                 102   AIC:                            -8182.\n",
       "Df Residuals:                     101   BIC:                            -8180.\n",
       "Df Model:                           1                                         \n",
       "Covariance Type:            nonrobust                                         \n",
       "==============================================================================\n",
       "                 coef    std err          t      P>|t|      [0.025      0.975]\n",
       "------------------------------------------------------------------------------\n",
       "x1             1.0000   1.62e-17   6.16e+16      0.000       1.000       1.000\n",
       "==============================================================================\n",
       "Omnibus:                       74.454   Durbin-Watson:                   1.142\n",
       "Prob(Omnibus):                  0.000   Jarque-Bera (JB):              351.208\n",
       "Skew:                           2.566   Prob(JB):                     5.45e-77\n",
       "Kurtosis:                      10.503   Cond. No.                         1.00\n",
       "==============================================================================\n",
       "\n",
       "Warnings:\n",
       "[1] Standard Errors assume that the covariance matrix of the errors is correctly specified.\n",
       "\"\"\""
      ]
     },
     "execution_count": 182,
     "metadata": {},
     "output_type": "execute_result"
    }
   ],
   "source": [
    "model.summary()"
   ]
  }
 ],
 "metadata": {
  "kernelspec": {
   "display_name": "Python 3",
   "language": "python",
   "name": "python3"
  },
  "language_info": {
   "codemirror_mode": {
    "name": "ipython",
    "version": 3
   },
   "file_extension": ".py",
   "mimetype": "text/x-python",
   "name": "python",
   "nbconvert_exporter": "python",
   "pygments_lexer": "ipython3",
   "version": "3.7.3"
  }
 },
 "nbformat": 4,
 "nbformat_minor": 2
}
