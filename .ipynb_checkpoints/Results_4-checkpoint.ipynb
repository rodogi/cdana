{
 "cells": [
  {
   "cell_type": "markdown",
   "metadata": {},
   "source": [
    "# Network parameters on main cores"
   ]
  },
  {
   "cell_type": "code",
   "execution_count": 1,
   "metadata": {},
   "outputs": [],
   "source": [
    "import pandas as pd\n",
    "import numpy as np\n",
    "import matplotlib.pyplot as plt\n",
    "import seaborn as sns; sns.set(style='darkgrid')"
   ]
  },
  {
   "cell_type": "code",
   "execution_count": 3,
   "metadata": {},
   "outputs": [],
   "source": [
    "import matplotlib\n",
    "matplotlib.use('Agg')\n",
    "sns.set(rc={'text.usetex' : True})"
   ]
  },
  {
   "cell_type": "code",
   "execution_count": 4,
   "metadata": {},
   "outputs": [],
   "source": [
    "matplotlib.rcParams['font.family'] = 'sans-serif'"
   ]
  },
  {
   "cell_type": "code",
   "execution_count": 5,
   "metadata": {},
   "outputs": [],
   "source": [
    "from glob import glob\n",
    "from os.path import join"
   ]
  },
  {
   "cell_type": "code",
   "execution_count": 6,
   "metadata": {},
   "outputs": [],
   "source": [
    "import scipy.stats"
   ]
  },
  {
   "cell_type": "code",
   "execution_count": 7,
   "metadata": {},
   "outputs": [],
   "source": [
    "import statsmodels.api as sm"
   ]
  },
  {
   "cell_type": "code",
   "execution_count": 26,
   "metadata": {},
   "outputs": [],
   "source": [
    "%matplotlib inline"
   ]
  },
  {
   "cell_type": "markdown",
   "metadata": {},
   "source": [
    "# Outline\n",
    "\n",
    "1. Create a tidy dataframe with main core network parameters.\n",
    "2. Create a grid figure with main core parameters\n",
    "3. Create a Figure with cumulative intersection of main core subsets together with a null model"
   ]
  },
  {
   "cell_type": "code",
   "execution_count": 15,
   "metadata": {},
   "outputs": [],
   "source": [
    "DATA = \"/Users/rdora/breast_cancer/data\"\n",
    "FIG = '/Users/rdora/Dropbox/inmegen/breast_cancer/article/figures/'\n",
    "# Tables with network parameters are scattered\n",
    "# around table_{TISSUE NAME}\n",
    "tissues = ['healthy',\n",
    "          'luma',\n",
    "          'lumb',\n",
    "          'her2',\n",
    "          'basal']\n",
    "\n",
    "rename_cols = {'cutoff': 'Layer',\n",
    "               'tissue': 'Tissue',\n",
    "                      'deg_mean': 'Mean Deg',\n",
    "                      'deg_std': 'Std Deg',\n",
    "                      'ass': 'D.A',\n",
    "                      'ass_attr': 'A.A',\n",
    "                      'size': 'Size'}"
   ]
  },
  {
   "cell_type": "code",
   "execution_count": 16,
   "metadata": {},
   "outputs": [],
   "source": [
    "df = pd.read_csv(join(DATA, \"kcore_params.csv\"))\n",
    "df = df.rename(columns=rename_cols)"
   ]
  },
  {
   "cell_type": "code",
   "execution_count": 17,
   "metadata": {},
   "outputs": [],
   "source": [
    "df = df.replace('median', '0')\n",
    "df = df.replace('low', '-1')\n",
    "df['Layer'] = df['Layer'].astype(int)"
   ]
  },
  {
   "cell_type": "code",
   "execution_count": 18,
   "metadata": {},
   "outputs": [
    {
     "data": {
      "text/html": [
       "<div>\n",
       "<style scoped>\n",
       "    .dataframe tbody tr th:only-of-type {\n",
       "        vertical-align: middle;\n",
       "    }\n",
       "\n",
       "    .dataframe tbody tr th {\n",
       "        vertical-align: top;\n",
       "    }\n",
       "\n",
       "    .dataframe thead th {\n",
       "        text-align: right;\n",
       "    }\n",
       "</style>\n",
       "<table border=\"1\" class=\"dataframe\">\n",
       "  <thead>\n",
       "    <tr style=\"text-align: right;\">\n",
       "      <th></th>\n",
       "      <th>Layer</th>\n",
       "      <th>Tissue</th>\n",
       "      <th>Mean Deg</th>\n",
       "      <th>Std Deg</th>\n",
       "      <th>D.A</th>\n",
       "      <th>A.A</th>\n",
       "      <th>Size</th>\n",
       "    </tr>\n",
       "  </thead>\n",
       "  <tbody>\n",
       "    <tr>\n",
       "      <th>0</th>\n",
       "      <td>1</td>\n",
       "      <td>healthy</td>\n",
       "      <td>14.579873</td>\n",
       "      <td>3.873612</td>\n",
       "      <td>0.006872</td>\n",
       "      <td>0.001386</td>\n",
       "      <td>12620</td>\n",
       "    </tr>\n",
       "    <tr>\n",
       "      <th>1</th>\n",
       "      <td>11</td>\n",
       "      <td>healthy</td>\n",
       "      <td>14.622377</td>\n",
       "      <td>3.943973</td>\n",
       "      <td>0.007415</td>\n",
       "      <td>0.001506</td>\n",
       "      <td>12343</td>\n",
       "    </tr>\n",
       "    <tr>\n",
       "      <th>2</th>\n",
       "      <td>12</td>\n",
       "      <td>healthy</td>\n",
       "      <td>14.628130</td>\n",
       "      <td>3.917890</td>\n",
       "      <td>0.019430</td>\n",
       "      <td>0.000825</td>\n",
       "      <td>12421</td>\n",
       "    </tr>\n",
       "    <tr>\n",
       "      <th>3</th>\n",
       "      <td>13</td>\n",
       "      <td>healthy</td>\n",
       "      <td>13.502851</td>\n",
       "      <td>2.987783</td>\n",
       "      <td>0.007199</td>\n",
       "      <td>0.000599</td>\n",
       "      <td>9120</td>\n",
       "    </tr>\n",
       "    <tr>\n",
       "      <th>4</th>\n",
       "      <td>14</td>\n",
       "      <td>healthy</td>\n",
       "      <td>14.619132</td>\n",
       "      <td>3.947425</td>\n",
       "      <td>0.014114</td>\n",
       "      <td>0.002669</td>\n",
       "      <td>12356</td>\n",
       "    </tr>\n",
       "  </tbody>\n",
       "</table>\n",
       "</div>"
      ],
      "text/plain": [
       "   Layer   Tissue   Mean Deg   Std Deg       D.A       A.A   Size\n",
       "0      1  healthy  14.579873  3.873612  0.006872  0.001386  12620\n",
       "1     11  healthy  14.622377  3.943973  0.007415  0.001506  12343\n",
       "2     12  healthy  14.628130  3.917890  0.019430  0.000825  12421\n",
       "3     13  healthy  13.502851  2.987783  0.007199  0.000599   9120\n",
       "4     14  healthy  14.619132  3.947425  0.014114  0.002669  12356"
      ]
     },
     "execution_count": 18,
     "metadata": {},
     "output_type": "execute_result"
    }
   ],
   "source": [
    "df.head()"
   ]
  },
  {
   "cell_type": "code",
   "execution_count": 19,
   "metadata": {},
   "outputs": [],
   "source": [
    "df_tidy = pd.melt(df, id_vars=[\"Tissue\", \"Layer\"],\n",
    "                 value_vars=[\"Mean Deg\",\n",
    "                             \"Std Deg\",\n",
    "                             \"D.A\",\n",
    "                             \"A.A\",\n",
    "                             \"Size\"],\n",
    "                 var_name=\"Param\",\n",
    "                 value_name=\"Value\")"
   ]
  },
  {
   "cell_type": "code",
   "execution_count": 20,
   "metadata": {},
   "outputs": [
    {
     "data": {
      "text/html": [
       "<div>\n",
       "<style scoped>\n",
       "    .dataframe tbody tr th:only-of-type {\n",
       "        vertical-align: middle;\n",
       "    }\n",
       "\n",
       "    .dataframe tbody tr th {\n",
       "        vertical-align: top;\n",
       "    }\n",
       "\n",
       "    .dataframe thead th {\n",
       "        text-align: right;\n",
       "    }\n",
       "</style>\n",
       "<table border=\"1\" class=\"dataframe\">\n",
       "  <thead>\n",
       "    <tr style=\"text-align: right;\">\n",
       "      <th></th>\n",
       "      <th>Tissue</th>\n",
       "      <th>Layer</th>\n",
       "      <th>Param</th>\n",
       "      <th>Value</th>\n",
       "    </tr>\n",
       "  </thead>\n",
       "  <tbody>\n",
       "    <tr>\n",
       "      <th>0</th>\n",
       "      <td>healthy</td>\n",
       "      <td>1</td>\n",
       "      <td>Mean Deg</td>\n",
       "      <td>14.579873</td>\n",
       "    </tr>\n",
       "    <tr>\n",
       "      <th>1</th>\n",
       "      <td>healthy</td>\n",
       "      <td>11</td>\n",
       "      <td>Mean Deg</td>\n",
       "      <td>14.622377</td>\n",
       "    </tr>\n",
       "    <tr>\n",
       "      <th>2</th>\n",
       "      <td>healthy</td>\n",
       "      <td>12</td>\n",
       "      <td>Mean Deg</td>\n",
       "      <td>14.628130</td>\n",
       "    </tr>\n",
       "    <tr>\n",
       "      <th>3</th>\n",
       "      <td>healthy</td>\n",
       "      <td>13</td>\n",
       "      <td>Mean Deg</td>\n",
       "      <td>13.502851</td>\n",
       "    </tr>\n",
       "    <tr>\n",
       "      <th>4</th>\n",
       "      <td>healthy</td>\n",
       "      <td>14</td>\n",
       "      <td>Mean Deg</td>\n",
       "      <td>14.619132</td>\n",
       "    </tr>\n",
       "  </tbody>\n",
       "</table>\n",
       "</div>"
      ],
      "text/plain": [
       "    Tissue  Layer     Param      Value\n",
       "0  healthy      1  Mean Deg  14.579873\n",
       "1  healthy     11  Mean Deg  14.622377\n",
       "2  healthy     12  Mean Deg  14.628130\n",
       "3  healthy     13  Mean Deg  13.502851\n",
       "4  healthy     14  Mean Deg  14.619132"
      ]
     },
     "execution_count": 20,
     "metadata": {},
     "output_type": "execute_result"
    }
   ],
   "source": [
    "df_tidy.head()"
   ]
  },
  {
   "cell_type": "code",
   "execution_count": 21,
   "metadata": {},
   "outputs": [],
   "source": [
    "df_tidy.to_csv(join(DATA, 'mcore_netparams_tidy.csv'), index=False)"
   ]
  },
  {
   "cell_type": "markdown",
   "metadata": {},
   "source": [
    "## Table\n",
    "Get the variance of each parameter per tissue."
   ]
  },
  {
   "cell_type": "code",
   "execution_count": 22,
   "metadata": {},
   "outputs": [
    {
     "data": {
      "text/html": [
       "<div>\n",
       "<style scoped>\n",
       "    .dataframe tbody tr th:only-of-type {\n",
       "        vertical-align: middle;\n",
       "    }\n",
       "\n",
       "    .dataframe tbody tr th {\n",
       "        vertical-align: top;\n",
       "    }\n",
       "\n",
       "    .dataframe thead th {\n",
       "        text-align: right;\n",
       "    }\n",
       "</style>\n",
       "<table border=\"1\" class=\"dataframe\">\n",
       "  <thead>\n",
       "    <tr style=\"text-align: right;\">\n",
       "      <th></th>\n",
       "      <th>Mean Deg</th>\n",
       "      <th>Std Deg</th>\n",
       "      <th>D.A</th>\n",
       "      <th>A.A</th>\n",
       "      <th>Size</th>\n",
       "    </tr>\n",
       "    <tr>\n",
       "      <th>Tissue</th>\n",
       "      <th></th>\n",
       "      <th></th>\n",
       "      <th></th>\n",
       "      <th></th>\n",
       "      <th></th>\n",
       "    </tr>\n",
       "  </thead>\n",
       "  <tbody>\n",
       "    <tr>\n",
       "      <th>basal</th>\n",
       "      <td>9.368124</td>\n",
       "      <td>0.316950</td>\n",
       "      <td>0.000285</td>\n",
       "      <td>0.003650</td>\n",
       "      <td>2.966801e+06</td>\n",
       "    </tr>\n",
       "    <tr>\n",
       "      <th>healthy</th>\n",
       "      <td>25.530219</td>\n",
       "      <td>4.125781</td>\n",
       "      <td>0.000724</td>\n",
       "      <td>0.000005</td>\n",
       "      <td>7.762391e+06</td>\n",
       "    </tr>\n",
       "    <tr>\n",
       "      <th>her2</th>\n",
       "      <td>13.827763</td>\n",
       "      <td>0.089074</td>\n",
       "      <td>0.000270</td>\n",
       "      <td>0.000815</td>\n",
       "      <td>2.867327e+06</td>\n",
       "    </tr>\n",
       "    <tr>\n",
       "      <th>luma</th>\n",
       "      <td>51.814981</td>\n",
       "      <td>0.354088</td>\n",
       "      <td>0.000349</td>\n",
       "      <td>0.002938</td>\n",
       "      <td>3.664357e+06</td>\n",
       "    </tr>\n",
       "    <tr>\n",
       "      <th>lumb</th>\n",
       "      <td>22.588584</td>\n",
       "      <td>0.312144</td>\n",
       "      <td>0.000474</td>\n",
       "      <td>0.003764</td>\n",
       "      <td>2.988041e+06</td>\n",
       "    </tr>\n",
       "  </tbody>\n",
       "</table>\n",
       "</div>"
      ],
      "text/plain": [
       "          Mean Deg   Std Deg       D.A       A.A          Size\n",
       "Tissue                                                        \n",
       "basal     9.368124  0.316950  0.000285  0.003650  2.966801e+06\n",
       "healthy  25.530219  4.125781  0.000724  0.000005  7.762391e+06\n",
       "her2     13.827763  0.089074  0.000270  0.000815  2.867327e+06\n",
       "luma     51.814981  0.354088  0.000349  0.002938  3.664357e+06\n",
       "lumb     22.588584  0.312144  0.000474  0.003764  2.988041e+06"
      ]
     },
     "execution_count": 22,
     "metadata": {},
     "output_type": "execute_result"
    }
   ],
   "source": [
    "df.groupby('Tissue').var().drop('Layer', axis=1)"
   ]
  },
  {
   "cell_type": "code",
   "execution_count": 24,
   "metadata": {},
   "outputs": [
    {
     "data": {
      "text/html": [
       "<div>\n",
       "<style scoped>\n",
       "    .dataframe tbody tr th:only-of-type {\n",
       "        vertical-align: middle;\n",
       "    }\n",
       "\n",
       "    .dataframe tbody tr th {\n",
       "        vertical-align: top;\n",
       "    }\n",
       "\n",
       "    .dataframe thead th {\n",
       "        text-align: right;\n",
       "    }\n",
       "</style>\n",
       "<table border=\"1\" class=\"dataframe\">\n",
       "  <thead>\n",
       "    <tr style=\"text-align: right;\">\n",
       "      <th></th>\n",
       "      <th>Mean Deg</th>\n",
       "      <th>Std Deg</th>\n",
       "      <th>D.A</th>\n",
       "      <th>A.A</th>\n",
       "      <th>Size</th>\n",
       "    </tr>\n",
       "    <tr>\n",
       "      <th>Tissue</th>\n",
       "      <th></th>\n",
       "      <th></th>\n",
       "      <th></th>\n",
       "      <th></th>\n",
       "      <th></th>\n",
       "    </tr>\n",
       "  </thead>\n",
       "  <tbody>\n",
       "    <tr>\n",
       "      <th>basal</th>\n",
       "      <td>2.526281</td>\n",
       "      <td>0.250696</td>\n",
       "      <td>0.000250</td>\n",
       "      <td>0.003650</td>\n",
       "      <td>1.713548e+06</td>\n",
       "    </tr>\n",
       "    <tr>\n",
       "      <th>healthy</th>\n",
       "      <td>4.195674</td>\n",
       "      <td>1.816186</td>\n",
       "      <td>0.000601</td>\n",
       "      <td>0.000005</td>\n",
       "      <td>6.891678e+06</td>\n",
       "    </tr>\n",
       "    <tr>\n",
       "      <th>her2</th>\n",
       "      <td>0.034205</td>\n",
       "      <td>0.078469</td>\n",
       "      <td>0.000201</td>\n",
       "      <td>0.000815</td>\n",
       "      <td>1.555219e+06</td>\n",
       "    </tr>\n",
       "    <tr>\n",
       "      <th>luma</th>\n",
       "      <td>0.658901</td>\n",
       "      <td>0.337116</td>\n",
       "      <td>0.000315</td>\n",
       "      <td>0.002938</td>\n",
       "      <td>2.427469e+06</td>\n",
       "    </tr>\n",
       "    <tr>\n",
       "      <th>lumb</th>\n",
       "      <td>2.288235</td>\n",
       "      <td>0.220069</td>\n",
       "      <td>0.000386</td>\n",
       "      <td>0.003764</td>\n",
       "      <td>1.727354e+06</td>\n",
       "    </tr>\n",
       "  </tbody>\n",
       "</table>\n",
       "</div>"
      ],
      "text/plain": [
       "         Mean Deg   Std Deg       D.A       A.A          Size\n",
       "Tissue                                                       \n",
       "basal    2.526281  0.250696  0.000250  0.003650  1.713548e+06\n",
       "healthy  4.195674  1.816186  0.000601  0.000005  6.891678e+06\n",
       "her2     0.034205  0.078469  0.000201  0.000815  1.555219e+06\n",
       "luma     0.658901  0.337116  0.000315  0.002938  2.427469e+06\n",
       "lumb     2.288235  0.220069  0.000386  0.003764  1.727354e+06"
      ]
     },
     "execution_count": 24,
     "metadata": {},
     "output_type": "execute_result"
    }
   ],
   "source": [
    "# All but the layer with largests co-expression\n",
    "df[df.Layer < 100].groupby('Tissue').var().drop('Layer', axis=1)"
   ]
  },
  {
   "cell_type": "markdown",
   "metadata": {},
   "source": [
    "# Visualization"
   ]
  },
  {
   "cell_type": "code",
   "execution_count": 27,
   "metadata": {},
   "outputs": [
    {
     "data": {
      "image/png": "[encoded data removed]",
      "text/plain": [
       "<Figure size 360x72 with 1 Axes>"
      ]
     },
     "metadata": {
      "needs_background": "light"
     },
     "output_type": "display_data"
    }
   ],
   "source": [
    "colors = ['#6aabd1', '#b63b2e', '#363441', '#ab9b93', '#abd16a']\n",
    "pal = sns.color_palette(colors)\n",
    "\n",
    "sns.palplot(pal)"
   ]
  },
  {
   "cell_type": "markdown",
   "metadata": {},
   "source": [
    "## Grid plot with network parameters"
   ]
  },
  {
   "cell_type": "code",
   "execution_count": 43,
   "metadata": {},
   "outputs": [
    {
     "data": {
      "text/plain": [
       "array(['Healthy', 'Luma', 'Lumb', 'Her2', 'Basal'], dtype=object)"
      ]
     },
     "execution_count": 43,
     "metadata": {},
     "output_type": "execute_result"
    }
   ],
   "source": [
    "df_tidy.Tissue.unique()"
   ]
  },
  {
   "cell_type": "code",
   "execution_count": 28,
   "metadata": {},
   "outputs": [],
   "source": [
    "hue_order = [\"Healthy\",\n",
    "            \"Lum A\",\n",
    "            \"Lum B\",\n",
    "            \"Her2\",\n",
    "            \"Basal\"]"
   ]
  },
  {
   "cell_type": "code",
   "execution_count": 40,
   "metadata": {},
   "outputs": [],
   "source": [
    "df_tidy[\"Tissue\"] = df_tidy[\"Tissue\"].apply(lambda x: x.capitalize())"
   ]
  },
  {
   "cell_type": "code",
   "execution_count": 44,
   "metadata": {},
   "outputs": [],
   "source": [
    "df_tidy = df_tidy.replace({\"Luma\": \"Lum A\",\n",
    "                          \"Lumb\": \"Lum B\"})"
   ]
  },
  {
   "cell_type": "code",
   "execution_count": 45,
   "metadata": {},
   "outputs": [
    {
     "data": {
      "text/html": [
       "<div>\n",
       "<style scoped>\n",
       "    .dataframe tbody tr th:only-of-type {\n",
       "        vertical-align: middle;\n",
       "    }\n",
       "\n",
       "    .dataframe tbody tr th {\n",
       "        vertical-align: top;\n",
       "    }\n",
       "\n",
       "    .dataframe thead th {\n",
       "        text-align: right;\n",
       "    }\n",
       "</style>\n",
       "<table border=\"1\" class=\"dataframe\">\n",
       "  <thead>\n",
       "    <tr style=\"text-align: right;\">\n",
       "      <th></th>\n",
       "      <th>Tissue</th>\n",
       "      <th>Layer</th>\n",
       "      <th>Param</th>\n",
       "      <th>Value</th>\n",
       "    </tr>\n",
       "  </thead>\n",
       "  <tbody>\n",
       "    <tr>\n",
       "      <th>0</th>\n",
       "      <td>Healthy</td>\n",
       "      <td>1</td>\n",
       "      <td>Mean Deg</td>\n",
       "      <td>14.579873</td>\n",
       "    </tr>\n",
       "    <tr>\n",
       "      <th>1</th>\n",
       "      <td>Healthy</td>\n",
       "      <td>11</td>\n",
       "      <td>Mean Deg</td>\n",
       "      <td>14.622377</td>\n",
       "    </tr>\n",
       "    <tr>\n",
       "      <th>2</th>\n",
       "      <td>Healthy</td>\n",
       "      <td>12</td>\n",
       "      <td>Mean Deg</td>\n",
       "      <td>14.628130</td>\n",
       "    </tr>\n",
       "    <tr>\n",
       "      <th>3</th>\n",
       "      <td>Healthy</td>\n",
       "      <td>13</td>\n",
       "      <td>Mean Deg</td>\n",
       "      <td>13.502851</td>\n",
       "    </tr>\n",
       "    <tr>\n",
       "      <th>4</th>\n",
       "      <td>Healthy</td>\n",
       "      <td>14</td>\n",
       "      <td>Mean Deg</td>\n",
       "      <td>14.619132</td>\n",
       "    </tr>\n",
       "  </tbody>\n",
       "</table>\n",
       "</div>"
      ],
      "text/plain": [
       "    Tissue  Layer     Param      Value\n",
       "0  Healthy      1  Mean Deg  14.579873\n",
       "1  Healthy     11  Mean Deg  14.622377\n",
       "2  Healthy     12  Mean Deg  14.628130\n",
       "3  Healthy     13  Mean Deg  13.502851\n",
       "4  Healthy     14  Mean Deg  14.619132"
      ]
     },
     "execution_count": 45,
     "metadata": {},
     "output_type": "execute_result"
    }
   ],
   "source": [
    "df_tidy.head()"
   ]
  },
  {
   "cell_type": "code",
   "execution_count": 46,
   "metadata": {},
   "outputs": [
    {
     "data": {
      "image/png": "[encoded data removed]",
      "text/plain": [
       "<Figure size 1080x1080 with 25 Axes>"
      ]
     },
     "metadata": {
      "needs_background": "light"
     },
     "output_type": "display_data"
    }
   ],
   "source": [
    "g = sns.FacetGrid(df_tidy, col=\"Tissue\", row=\"Param\", hue=\"Tissue\",\n",
    "                 hue_order=hue_order, sharex=True, sharey=\"row\", palette=pal)\n",
    "g.map(plt.scatter, \"Layer\", \"Value\")\n",
    "g.savefig(join(FIG, 'main_core_facet_grid_param.png'), dpi=300)"
   ]
  }
 ],
 "metadata": {
  "kernelspec": {
   "display_name": "Python 3",
   "language": "python",
   "name": "python3"
  },
  "language_info": {
   "codemirror_mode": {
    "name": "ipython",
    "version": 3
   },
   "file_extension": ".py",
   "mimetype": "text/x-python",
   "name": "python",
   "nbconvert_exporter": "python",
   "pygments_lexer": "ipython3",
   "version": "3.7.3"
  }
 },
 "nbformat": 4,
 "nbformat_minor": 2
}
