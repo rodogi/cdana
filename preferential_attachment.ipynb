{
 "cells": [
  {
   "cell_type": "code",
   "execution_count": 18,
   "metadata": {},
   "outputs": [],
   "source": [
    "import pandas as pd\n",
    "import networkx as nx\n",
    "import graph_tool.all as gt\n",
    "\n",
    "import scipy.stats as stats\n",
    "\n",
    "import numpy as np\n",
    "\n",
    "import matplotlib.pyplot as plt\n",
    "import seaborn as sns\n",
    "\n",
    "from os.path import join"
   ]
  },
  {
   "cell_type": "code",
   "execution_count": 19,
   "metadata": {},
   "outputs": [],
   "source": [
    "from matplotlib import rc\n",
    "rc('font',**{'family':'sans-serif','sans-serif':['Helvetica']})\n",
    "## for Palatino and other serif fonts use:\n",
    "#rc('font',**{'family':'serif','serif':['Palatino']})\n",
    "rc('text', usetex=True)"
   ]
  },
  {
   "cell_type": "markdown",
   "metadata": {},
   "source": [
    "# Preferntial attachment\n",
    "\n",
    "Preferential attachment is the mechanism of the formation of a network where some nodes have preference of attachment over other nodes, usually depending on their previous degree.\n",
    "\n",
    "Distribution of degrees of the top layer follow a power law."
   ]
  },
  {
   "cell_type": "code",
   "execution_count": 20,
   "metadata": {},
   "outputs": [],
   "source": [
    "DATA = \"/Users/rdora/breast_cancer/data/\"\n",
    "FIG = \"/Users/rdora/Dropbox/inmegen/breast_cancer/article/figures/\""
   ]
  },
  {
   "cell_type": "code",
   "execution_count": 21,
   "metadata": {},
   "outputs": [],
   "source": [
    "netparams = pd.read_csv(join(DATA, \"netparams_tidy.csv\"))"
   ]
  },
  {
   "cell_type": "code",
   "execution_count": 22,
   "metadata": {},
   "outputs": [],
   "source": [
    "class Power_law():\n",
    "    def __init__(self, a):\n",
    "        self.a = a\n",
    "    def p(self, x):\n",
    "        return x ** (- self.a)"
   ]
  },
  {
   "cell_type": "code",
   "execution_count": 23,
   "metadata": {},
   "outputs": [
    {
     "data": {
      "image/png": "[encoded data removed]",
      "text/plain": [
       "<Figure size 720x432 with 1 Axes>"
      ]
     },
     "metadata": {
      "needs_background": "light"
     },
     "output_type": "display_data"
    }
   ],
   "source": [
    "# The case of the top layer healthy network\n",
    "G_top = pd.read_csv(\"/Users/rdora/breast_cancer/healthy/gene-range_100.csv\")\n",
    "G_top = nx.from_pandas_edgelist(G_top,\n",
    "                               source=\"gene_1\",\n",
    "                               target=\"gene_2\")\n",
    "\n",
    "degree_top = pd.DataFrame(G_top.degree,\n",
    "                         columns=['node', 'degree'])\n",
    "\n",
    "# Degree distribution healthy network\n",
    "fig, ax = plt.subplots(figsize=(10, 6))\n",
    "ax.set(xscale=\"log\", yscale=\"log\")\n",
    "deg_freq = degree_top.degree.value_counts(normalize=True).reset_index()\n",
    "deg_freq = deg_freq.rename(columns={\"index\": \"degree\", \"degree\": \"number of nodes\"})\n",
    "sns.scatterplot(x=\"degree\", y='number of nodes', ax=ax, data=deg_freq)\n",
    "\n",
    "# Plot a power law\n",
    "a = 1.7\n",
    "power_law = Power_law(a)\n",
    "x = np.linspace(deg_freq.degree.min(), deg_freq.degree.max(), 100)\n",
    "ax.plot(x, power_law.p(x), 'r-', lw=5, alpha=0.6)\n",
    "\n",
    "fig.savefig(join(FIG, \"pa_dist.png\"), dpi=300)"
   ]
  },
  {
   "cell_type": "markdown",
   "metadata": {},
   "source": [
    "# Make tidy dataframe with different frequencies\n",
    "\n",
    "For each degree and each layer we look at its frequency across different layers."
   ]
  },
  {
   "cell_type": "code",
   "execution_count": 24,
   "metadata": {},
   "outputs": [],
   "source": [
    "A = 0\n",
    "data = []\n",
    "for i in range(A, 101):\n",
    "    # Healthy\n",
    "    path = f\"/Users/rdora/breast_cancer/healthy/gene-range_{i}.csv\"\n",
    "    df = pd.read_csv(path)\n",
    "    G = nx.from_pandas_edgelist(df,\n",
    "                                   source=\"gene_1\",\n",
    "                                   target=\"gene_2\")\n",
    "\n",
    "    degree = pd.DataFrame(G.degree,\n",
    "                             columns=['node', 'degree'])\n",
    "    deg_freq = degree.degree.value_counts(normalize=True).reset_index()\n",
    "    deg_freq = deg_freq.rename(columns={\"index\": \"degree\", \"degree\": \"frequency\"})\n",
    "    deg_freq['layer'] = i\n",
    "    deg_freq['tissue'] = 'healthy'\n",
    "    data.append(deg_freq)\n",
    "    \n",
    "    # Cancer\n",
    "    path = f\"/Users/rdora/breast_cancer/basal/gene-range_{i}.csv\"\n",
    "    df = pd.read_csv(path)\n",
    "    G = nx.from_pandas_edgelist(df,\n",
    "                                   source=\"gene_1\",\n",
    "                                   target=\"gene_2\")\n",
    "\n",
    "    degree = pd.DataFrame(G.degree,\n",
    "                             columns=['node', 'degree'])\n",
    "    deg_freq = degree.degree.value_counts(normalize=True).reset_index()\n",
    "    deg_freq = deg_freq.rename(columns={\"index\": \"degree\", \"degree\": \"frequency\"})\n",
    "    deg_freq['layer'] = i\n",
    "    deg_freq['tissue'] = 'basal'\n",
    "    data.append(deg_freq)\n",
    "    \n",
    "df = pd.concat(data)"
   ]
  },
  {
   "cell_type": "code",
   "execution_count": 25,
   "metadata": {},
   "outputs": [
    {
     "data": {
      "text/plain": [
       "16.5"
      ]
     },
     "execution_count": 25,
     "metadata": {},
     "output_type": "execute_result"
    }
   ],
   "source": [
    "df[(df.layer==0) & (df.tissue=='healthy')]['degree'].mean()"
   ]
  },
  {
   "cell_type": "markdown",
   "metadata": {},
   "source": [
    "# 2D plot of some layers' degree distributions\n",
    "\n",
    "Plot to be saved to use in a figure"
   ]
  },
  {
   "cell_type": "code",
   "execution_count": 26,
   "metadata": {},
   "outputs": [
    {
     "name": "stderr",
     "output_type": "stream",
     "text": [
      "/usr/local/lib/python3.7/site-packages/seaborn/axisgrid.py:375: UserWarning: This figure includes Axes that are not compatible with tight_layout, so results might be incorrect.\n",
      "  fig.tight_layout()\n",
      "/usr/local/lib/python3.7/site-packages/seaborn/axisgrid.py:848: UserWarning: This figure includes Axes that are not compatible with tight_layout, so results might be incorrect.\n",
      "  self.fig.tight_layout()\n"
     ]
    },
    {
     "data": {
      "image/png": "[encoded data removed]",
      "text/plain": [
       "<Figure size 518.4x144 with 12 Axes>"
      ]
     },
     "metadata": {
      "needs_background": "light"
     },
     "output_type": "display_data"
    }
   ],
   "source": [
    "six = [0, 50, 70, 90, 95, 100]\n",
    "df_6 = df[df['layer'].isin(six)]\n",
    "df_6 = df_6.sort_values(by='degree')\n",
    "with sns.color_palette('deep'):\n",
    "    g = sns.FacetGrid(df_6, row='tissue', col='layer', hue='tissue', sharey=True,\n",
    "                 sharex=True, height=1, aspect=1.2, row_order=['healthy', 'basal'],\n",
    "                     hue_order=['healthy', 'basal'], gridspec_kws={\"hspace\":0.15, \"wspace\":0.1})\n",
    "    g.map(plt.plot, \"degree\", \"frequency\", markersize=0, linewidth=3)\n",
    "    \n",
    "g.set(yscale=\"log\", xscale='log', xlim=[df.degree.min() - .05, df.degree.max()],\n",
    "     ylim=[0.0005, 1])\n",
    "\n",
    "# Set titles\n",
    "[plt.setp(ax.texts, text=\"\") for ax in g.axes.flat]\n",
    "g.set_titles(row_template = '', template='{col_name}')\n",
    "\n",
    "# Remove y labels\n",
    "g.axes[0,0].set_ylabel('')\n",
    "g.axes[1,0].set_ylabel('')\n",
    "\n",
    "g.axes[0,0].set_title(r'\\textbf{Layer}={\\small 0}')\n",
    "for i in range(6):\n",
    "    g.axes[1,i].set_title('')\n",
    "    g.axes[1,i].set_xlabel('')\n",
    "\n",
    "    \n",
    "# Text\n",
    "g.fig.text(0.9, 0.65, r'\\textbf{Healthy}', rotation=270)\n",
    "g.fig.text(0.9, 0.3, r'\\textbf{Basal}', rotation=270)\n",
    "\n",
    "# Labels\n",
    "g.fig.text(0.5, -0.03, r'Degree')\n",
    "g.fig.text(0.03, 0.4, r'Frequency', rotation=90)\n",
    "\n",
    "g.fig.text(0.05, 1, r'\\large \\textbf{A}')\n",
    "\n",
    "g.savefig(join(FIG, \"degree_evolution.png\"), dpi=300)"
   ]
  },
  {
   "cell_type": "code",
   "execution_count": 27,
   "metadata": {},
   "outputs": [],
   "source": [
    "o_six = [95, 96, 97, 98, 99, 100]\n",
    "df_o6 = df[df['layer'].isin(o_six)]\n",
    "df_o6 = df_o6.sort_values(by='degree')"
   ]
  },
  {
   "cell_type": "code",
   "execution_count": 28,
   "metadata": {},
   "outputs": [
    {
     "name": "stderr",
     "output_type": "stream",
     "text": [
      "/usr/local/lib/python3.7/site-packages/seaborn/axisgrid.py:375: UserWarning: This figure includes Axes that are not compatible with tight_layout, so results might be incorrect.\n",
      "  fig.tight_layout()\n",
      "/usr/local/lib/python3.7/site-packages/seaborn/axisgrid.py:848: UserWarning: This figure includes Axes that are not compatible with tight_layout, so results might be incorrect.\n",
      "  self.fig.tight_layout()\n"
     ]
    },
    {
     "data": {
      "image/png": "[encoded data removed]",
      "text/plain": [
       "<Figure size 518.4x144 with 12 Axes>"
      ]
     },
     "metadata": {
      "needs_background": "light"
     },
     "output_type": "display_data"
    }
   ],
   "source": [
    "with sns.color_palette('deep'):\n",
    "    g = sns.FacetGrid(df_o6, row='tissue', col='layer', hue='tissue', sharey=True,\n",
    "                 sharex=True, height=1, aspect=1.2, row_order=['healthy', 'basal'],\n",
    "                     hue_order=['healthy', 'basal'], gridspec_kws={\"hspace\":0.15, \"wspace\":0.1})\n",
    "    g.map(plt.plot, \"degree\", \"frequency\", markersize=0, linewidth=3)\n",
    "    \n",
    "g.set(yscale=\"log\", xscale='log', xlim=[df.degree.min() - .05, df.degree.max()],\n",
    "     ylim=[0.0005, 1])\n",
    "\n",
    "# Set titles\n",
    "[plt.setp(ax.texts, text=\"\") for ax in g.axes.flat]\n",
    "g.set_titles(row_template = '', template='{col_name}')\n",
    "\n",
    "# Remove y labels\n",
    "g.axes[0,0].set_ylabel('')\n",
    "g.axes[1,0].set_ylabel('')\n",
    "\n",
    "g.axes[0,0].set_title(r'\\textbf{Layer}={\\small 95}')\n",
    "for i in range(6):\n",
    "    g.axes[1,i].set_title('')\n",
    "    g.axes[1,i].set_xlabel('')\n",
    "\n",
    "    \n",
    "# Text\n",
    "g.fig.text(0.9, 0.65, r'\\textbf{Healthy}', rotation=270)\n",
    "g.fig.text(0.9, 0.3, r'\\textbf{Basal}', rotation=270)\n",
    "\n",
    "# Labels\n",
    "g.fig.text(0.5, -0.03, r'Degree')\n",
    "g.fig.text(0.03, 0.4, r'Frequency', rotation=90)\n",
    "\n",
    "g.fig.text(0.05, 1, r'\\large \\textbf{B}')\n",
    "\n",
    "g.savefig(join(FIG, \"degree_evolution_last_6.png\"), dpi=300)"
   ]
  },
  {
   "cell_type": "code",
   "execution_count": 29,
   "metadata": {},
   "outputs": [],
   "source": [
    "df_1 = df_o6[(df_o6.layer==100) | (df_o6.layer==95)]"
   ]
  },
  {
   "cell_type": "code",
   "execution_count": 30,
   "metadata": {},
   "outputs": [
    {
     "data": {
      "text/html": [
       "<div>\n",
       "<style scoped>\n",
       "    .dataframe tbody tr th:only-of-type {\n",
       "        vertical-align: middle;\n",
       "    }\n",
       "\n",
       "    .dataframe tbody tr th {\n",
       "        vertical-align: top;\n",
       "    }\n",
       "\n",
       "    .dataframe thead th {\n",
       "        text-align: right;\n",
       "    }\n",
       "</style>\n",
       "<table border=\"1\" class=\"dataframe\">\n",
       "  <thead>\n",
       "    <tr style=\"text-align: right;\">\n",
       "      <th></th>\n",
       "      <th>degree</th>\n",
       "      <th>frequency</th>\n",
       "      <th>layer</th>\n",
       "      <th>tissue</th>\n",
       "    </tr>\n",
       "  </thead>\n",
       "  <tbody>\n",
       "    <tr>\n",
       "      <th>35</th>\n",
       "      <td>1</td>\n",
       "      <td>0.000207</td>\n",
       "      <td>95</td>\n",
       "      <td>basal</td>\n",
       "    </tr>\n",
       "    <tr>\n",
       "      <th>0</th>\n",
       "      <td>1</td>\n",
       "      <td>0.121967</td>\n",
       "      <td>100</td>\n",
       "      <td>healthy</td>\n",
       "    </tr>\n",
       "    <tr>\n",
       "      <th>0</th>\n",
       "      <td>1</td>\n",
       "      <td>0.132887</td>\n",
       "      <td>100</td>\n",
       "      <td>basal</td>\n",
       "    </tr>\n",
       "    <tr>\n",
       "      <th>8</th>\n",
       "      <td>1</td>\n",
       "      <td>0.042426</td>\n",
       "      <td>95</td>\n",
       "      <td>healthy</td>\n",
       "    </tr>\n",
       "    <tr>\n",
       "      <th>1</th>\n",
       "      <td>2</td>\n",
       "      <td>0.065992</td>\n",
       "      <td>100</td>\n",
       "      <td>basal</td>\n",
       "    </tr>\n",
       "  </tbody>\n",
       "</table>\n",
       "</div>"
      ],
      "text/plain": [
       "    degree  frequency  layer   tissue\n",
       "35       1   0.000207     95    basal\n",
       "0        1   0.121967    100  healthy\n",
       "0        1   0.132887    100    basal\n",
       "8        1   0.042426     95  healthy\n",
       "1        2   0.065992    100    basal"
      ]
     },
     "execution_count": 30,
     "metadata": {},
     "output_type": "execute_result"
    }
   ],
   "source": [
    "df_1.head()"
   ]
  },
  {
   "cell_type": "code",
   "execution_count": 31,
   "metadata": {},
   "outputs": [
    {
     "data": {
      "image/png": "[encoded data removed]",
      "text/plain": [
       "<Figure size 316.8x158.4 with 2 Axes>"
      ]
     },
     "metadata": {
      "needs_background": "light"
     },
     "output_type": "display_data"
    }
   ],
   "source": [
    "df_1 = df_1.replace({'healthy': 'Healthy', 'basal': 'Basal'})\n",
    "with sns.color_palette(\"hls\", 2):\n",
    "    g = sns.FacetGrid(df_1, col='tissue', hue='layer', sharey=True,\n",
    "                 sharex=True, height=2.2, aspect=1, row_order=['healthy', 'basal'],\n",
    "                     hue_order=[95, 100])\n",
    "    g.map(plt.plot, \"degree\", \"frequency\", markersize=0, linewidth=3)\n",
    "    \n",
    "g.set(yscale=\"log\", xscale='log', xlim=[df.degree.min() - .05, df.degree.max()],\n",
    "     ylim=[0.0005, 1])\n",
    "\n",
    "# Set titles\n",
    "[plt.setp(ax.texts, text=\"\") for ax in g.axes.flat]\n",
    "g.set_titles(row_template = '', template='{col_name}')\n",
    "\n",
    "# Remove y labels\n",
    "g.axes[0,0].set_ylabel('Frequency')\n",
    "\n",
    "g.axes[0,0].set_xlabel('Degree')\n",
    "g.axes[0,1].set_xlabel('Degree')\n",
    "\n",
    "plt.legend(frameon=False, title=\"Layer\",\n",
    "          loc=(0.8, 0.4))\n",
    "\n",
    "g.fig.text(0.05, 1, r'\\large \\textbf{B}')\n",
    "\n",
    "g.savefig(join(FIG, \"degree_distribution.png\"), dpi=300)"
   ]
  },
  {
   "cell_type": "markdown",
   "metadata": {},
   "source": [
    "# Degree Evolution for a set of nodes\n",
    "\n",
    "Let's take a second to evaluate the evolution of degrees across different groups of nodes.\n",
    "\n",
    "One group of highly connected nodes and another random group.\n",
    "\n",
    "Two groups of nodes:\n",
    "\n",
    "- G1: nodes of the top layer main core\n",
    "- G2: Group at random with cardinality |G1|\n",
    "\n",
    "An alternative group of nodes:\n",
    "\n",
    "- G1: Hubs, nodes with a degree larger than $\\mu + 2\\sigma$.\n",
    "- G2: Random group with cardinality |G1|"
   ]
  },
  {
   "cell_type": "code",
   "execution_count": 32,
   "metadata": {},
   "outputs": [],
   "source": [
    "# degree for each node on each layer\n",
    "dataframes = []\n",
    "for tissue in ['healthy', 'basal']:\n",
    "    for i in range(101):\n",
    "        path = f\"/Users/rdora/breast_cancer/{tissue}/gene-range_{i}.csv\"\n",
    "        temp = pd.read_csv(path)\n",
    "        G = nx.from_pandas_edgelist(temp,\n",
    "                                   source=\"gene_1\",\n",
    "                                   target=\"gene_2\")\n",
    "        degree = pd.DataFrame(G.degree, columns=['node', 'degree'])\n",
    "        degree['layer'] = i\n",
    "        degree['tissue'] = tissue\n",
    "        dataframes.append(degree)\n",
    "df_d = pd.concat(dataframes)\n",
    "del dataframes"
   ]
  },
  {
   "cell_type": "code",
   "execution_count": 33,
   "metadata": {},
   "outputs": [
    {
     "name": "stdout",
     "output_type": "stream",
     "text": [
      "14474 total nodes\n"
     ]
    }
   ],
   "source": [
    "# List of all nodes\n",
    "G_low = pd.read_csv(\"/Users/rdora/breast_cancer/healthy/gene-range_0.csv\")\n",
    "G_low = nx.from_pandas_edgelist(G_low,\n",
    "                               source=\"gene_1\",\n",
    "                               target=\"gene_2\")\n",
    "nodes = list(G_low.nodes)\n",
    "print(f\"{len(nodes)} total nodes\")"
   ]
  },
  {
   "cell_type": "markdown",
   "metadata": {},
   "source": [
    "## First group: Hubs\n",
    "\n",
    "We'll show the evolution for some layers only"
   ]
  },
  {
   "cell_type": "code",
   "execution_count": 34,
   "metadata": {},
   "outputs": [],
   "source": [
    "G_top = pd.read_csv(\"/Users/rdora/breast_cancer/healthy/gene-range_100.csv\")\n",
    "G_top = nx.from_pandas_edgelist(G_top,\n",
    "                               source=\"gene_1\",\n",
    "                               target=\"gene_2\")\n",
    "degs = [d for v, d in G_top.degree]\n",
    "mu, sigma = np.mean(degs), np.std(degs)\n",
    "# Hubs\n",
    "G1_h = [v for v, d in G_top.degree if d >= mu + 2 * sigma]"
   ]
  },
  {
   "cell_type": "code",
   "execution_count": 35,
   "metadata": {},
   "outputs": [
    {
     "data": {
      "text/plain": [
       "69.59046623752214"
      ]
     },
     "execution_count": 35,
     "metadata": {},
     "output_type": "execute_result"
    }
   ],
   "source": [
    "mu + 2 * sigma"
   ]
  },
  {
   "cell_type": "code",
   "execution_count": 36,
   "metadata": {},
   "outputs": [
    {
     "data": {
      "text/plain": [
       "533"
      ]
     },
     "execution_count": 36,
     "metadata": {},
     "output_type": "execute_result"
    }
   ],
   "source": [
    "len(G1_h)"
   ]
  },
  {
   "cell_type": "code",
   "execution_count": 37,
   "metadata": {},
   "outputs": [],
   "source": [
    "G_top = pd.read_csv(\"/Users/rdora/breast_cancer/basal/gene-range_100.csv\")\n",
    "G_top = nx.from_pandas_edgelist(G_top,\n",
    "                               source=\"gene_1\",\n",
    "                               target=\"gene_2\")\n",
    "degs = [d for v, d in G_top.degree]\n",
    "mu, sigma = np.mean(degs), np.std(degs)\n",
    "# Hubs\n",
    "G1_b = [v for v, d in G_top.degree if d >= mu + 2 * sigma]"
   ]
  },
  {
   "cell_type": "code",
   "execution_count": 38,
   "metadata": {},
   "outputs": [
    {
     "data": {
      "text/plain": [
       "53.80126980380292"
      ]
     },
     "execution_count": 38,
     "metadata": {},
     "output_type": "execute_result"
    }
   ],
   "source": [
    "mu + 2 * sigma"
   ]
  },
  {
   "cell_type": "code",
   "execution_count": 39,
   "metadata": {},
   "outputs": [
    {
     "data": {
      "text/plain": [
       "534"
      ]
     },
     "execution_count": 39,
     "metadata": {},
     "output_type": "execute_result"
    }
   ],
   "source": [
    "len(G1_b)"
   ]
  },
  {
   "cell_type": "code",
   "execution_count": 40,
   "metadata": {
    "scrolled": true
   },
   "outputs": [
    {
     "name": "stderr",
     "output_type": "stream",
     "text": [
      "/usr/local/lib/python3.7/site-packages/ipykernel_launcher.py:7: SettingWithCopyWarning: \n",
      "A value is trying to be set on a copy of a slice from a DataFrame.\n",
      "Try using .loc[row_indexer,col_indexer] = value instead\n",
      "\n",
      "See the caveats in the documentation: https://pandas.pydata.org/pandas-docs/stable/user_guide/indexing.html#returning-a-view-versus-a-copy\n",
      "  import sys\n",
      "/usr/local/lib/python3.7/site-packages/ipykernel_launcher.py:12: SettingWithCopyWarning: \n",
      "A value is trying to be set on a copy of a slice from a DataFrame.\n",
      "Try using .loc[row_indexer,col_indexer] = value instead\n",
      "\n",
      "See the caveats in the documentation: https://pandas.pydata.org/pandas-docs/stable/user_guide/indexing.html#returning-a-view-versus-a-copy\n",
      "  if sys.path[0] == '':\n"
     ]
    }
   ],
   "source": [
    "data = []\n",
    "ten = [0, 50, 70, 90, 95, 96, 97, 98, 99, 100]\n",
    "G1s = [G1_h, G1_b]\n",
    "df_ten = df_d[df_d['layer'].isin(ten)]\n",
    "for x, tissue in enumerate(['healthy', 'basal']):\n",
    "    df_G1 = df_ten[(df_ten['node'].isin(G1s[x])) & (df_ten['tissue']==tissue)]\n",
    "    df_G1['group'] = 'A'\n",
    "    data.append(df_G1)\n",
    "    for i in range(101):\n",
    "        G2 = np.random.choice(nodes, len(G1s[x]))\n",
    "        df_G2 = df_ten[(df_ten['node'].isin(G2)) & (df_ten['tissue']==tissue)]\n",
    "        df_G2['group'] = 'B'\n",
    "        data.append(df_G2)\n",
    "df_pa = pd.concat(data)\n",
    "del data"
   ]
  },
  {
   "cell_type": "code",
   "execution_count": 41,
   "metadata": {},
   "outputs": [
    {
     "data": {
      "text/plain": [
       "533"
      ]
     },
     "execution_count": 41,
     "metadata": {},
     "output_type": "execute_result"
    }
   ],
   "source": [
    "len(G1_h)"
   ]
  },
  {
   "cell_type": "code",
   "execution_count": 42,
   "metadata": {},
   "outputs": [],
   "source": [
    "six = [0, 50, 70, 90, 95, 100]\n",
    "df_6 = df_pa[df_pa.layer.isin(six)]"
   ]
  },
  {
   "cell_type": "code",
   "execution_count": 48,
   "metadata": {},
   "outputs": [],
   "source": [
    "df_6_h = df_6[df_6.tissue=='healthy']"
   ]
  },
  {
   "cell_type": "code",
   "execution_count": 55,
   "metadata": {},
   "outputs": [],
   "source": [
    "df_6.to_csv(\"/Users/rdora/breast_cancer/data/degree_hubs_group.csv\", index=False)"
   ]
  },
  {
   "cell_type": "code",
   "execution_count": 17,
   "metadata": {},
   "outputs": [
    {
     "name": "stderr",
     "output_type": "stream",
     "text": [
      "/usr/local/lib/python3.7/site-packages/seaborn/axisgrid.py:375: UserWarning: This figure includes Axes that are not compatible with tight_layout, so results might be incorrect.\n",
      "  fig.tight_layout()\n",
      "/usr/local/lib/python3.7/site-packages/seaborn/axisgrid.py:848: UserWarning: This figure includes Axes that are not compatible with tight_layout, so results might be incorrect.\n",
      "  self.fig.tight_layout()\n"
     ]
    },
    {
     "data": {
      "image/png": "[encoded data removed]",
      "text/plain": [
       "<Figure size 518.4x144 with 12 Axes>"
      ]
     },
     "metadata": {
      "needs_background": "light"
     },
     "output_type": "display_data"
    }
   ],
   "source": [
    "with sns.hls_palette(2, l=.5, s=.3):\n",
    "    g = sns.FacetGrid(row='tissue', col='layer',\n",
    "                     hue='group', data=df_6,\n",
    "                     sharex='col', sharey='row',\n",
    "                     height=1, aspect=1.2,\n",
    "                     gridspec_kws={\"hspace\":0.15})\n",
    "\n",
    "g.map(sns.distplot, \"degree\")\n",
    "\n",
    "# Titles\n",
    "[plt.setp(ax.texts, text=\"\") for ax in g.axes.flat]\n",
    "g.set_titles(row_template = '', template = '{col_name}')\n",
    "\n",
    "# Remove y labels\n",
    "g.axes[0,0].set_ylabel('')\n",
    "g.axes[1,0].set_ylabel('')\n",
    "\n",
    "g.axes[0,0].set_title(r'\\textbf{Layer}={\\small 0}')\n",
    "for i in range(6):\n",
    "    g.axes[1,i].set_title('')\n",
    "    g.axes[1,i].set_xlabel('')\n",
    "    \n",
    "# Text\n",
    "g.fig.text(0.88, 0.65, r'\\textbf{Healthy}', rotation=270)\n",
    "g.fig.text(0.88, 0.3, r'\\textbf{Basal}', rotation=270)\n",
    "\n",
    "# Labels\n",
    "g.fig.text(0.5, -0.1, r'Degree')\n",
    "g.fig.text(0.05, 0.4, r'Frequency', rotation=90)\n",
    "\n",
    "g.fig.text(0.05, 1.1, r'\\large \\textbf{A} Hubs')\n",
    "\n",
    "# Legend\n",
    "g.fig.legend(title=r'\\small Group', labels=['Hubs', 'Control'], ncol=2, loc=(0.73, 0.85),\n",
    "            fontsize='x-small', frameon=False);\n",
    "\n",
    "g.savefig(join(FIG, \"hubs_evolution.png\"), dpi=300)"
   ]
  },
  {
   "cell_type": "markdown",
   "metadata": {},
   "source": [
    "## Top 6 Layers"
   ]
  },
  {
   "cell_type": "code",
   "execution_count": 28,
   "metadata": {},
   "outputs": [],
   "source": [
    "top = [95, 96, 97, 98, 99, 100]\n",
    "df_top = df_pa[df_pa.layer.isin(top)]"
   ]
  },
  {
   "cell_type": "code",
   "execution_count": 29,
   "metadata": {},
   "outputs": [
    {
     "name": "stderr",
     "output_type": "stream",
     "text": [
      "/usr/local/lib/python3.7/site-packages/seaborn/axisgrid.py:375: UserWarning: This figure includes Axes that are not compatible with tight_layout, so results might be incorrect.\n",
      "  fig.tight_layout()\n",
      "/usr/local/lib/python3.7/site-packages/seaborn/axisgrid.py:848: UserWarning: This figure includes Axes that are not compatible with tight_layout, so results might be incorrect.\n",
      "  self.fig.tight_layout()\n"
     ]
    },
    {
     "data": {
      "image/png": "[encoded data removed]",
      "text/plain": [
       "<Figure size 518.4x144 with 12 Axes>"
      ]
     },
     "metadata": {
      "needs_background": "light"
     },
     "output_type": "display_data"
    }
   ],
   "source": [
    "with sns.hls_palette(2, l=.5, s=.3):\n",
    "    g = sns.FacetGrid(row='tissue', col='layer',\n",
    "                     hue='group', data=df_top,\n",
    "                     sharex='col', sharey='row',\n",
    "                     height=1, aspect=1.2,\n",
    "                     gridspec_kws={\"hspace\":0.15})\n",
    "\n",
    "g.map(sns.distplot, \"degree\")\n",
    "\n",
    "# Titles\n",
    "[plt.setp(ax.texts, text=\"\") for ax in g.axes.flat]\n",
    "g.set_titles(row_template = '', template = '{col_name}')\n",
    "\n",
    "# Remove y labels\n",
    "g.axes[0,0].set_ylabel('')\n",
    "g.axes[1,0].set_ylabel('')\n",
    "\n",
    "g.axes[0,0].set_title(r'\\textbf{Layer}={\\small 95}')\n",
    "for i in range(6):\n",
    "    g.axes[1,i].set_title('')\n",
    "    g.axes[1,i].set_xlabel('')\n",
    "    \n",
    "# Text\n",
    "g.fig.text(0.88, 0.65, r'\\textbf{Healthy}', rotation=270)\n",
    "g.fig.text(0.88, 0.3, r'\\textbf{Basal}', rotation=270)\n",
    "\n",
    "# Labels\n",
    "g.fig.text(0.5, -0.1, r'Degree')\n",
    "g.fig.text(0.05, 0.4, r'Frequency', rotation=90)\n",
    "\n",
    "g.fig.text(0.05, 1.1, r'\\large \\textbf{C} Hubs: top 6 layers')\n",
    "\n",
    "# Legend\n",
    "g.fig.legend(title=r'\\small Group', labels=['Hubs', 'Control'], ncol=2, loc=(0.73, 0.85),\n",
    "            fontsize='x-small');\n",
    "\n",
    "g.savefig(join(FIG, \"top_hubs_evolution.png\"), dpi=300)"
   ]
  },
  {
   "cell_type": "markdown",
   "metadata": {},
   "source": [
    "## Second group: Main core"
   ]
  },
  {
   "cell_type": "code",
   "execution_count": 56,
   "metadata": {},
   "outputs": [],
   "source": [
    "G_top = pd.read_csv(\"/Users/rdora/breast_cancer/healthy/gene-range_100.csv\")\n",
    "G_top = nx.from_pandas_edgelist(G_top,\n",
    "                               source=\"gene_1\",\n",
    "                               target=\"gene_2\")\n",
    "degs = [d for v, d in G_top.degree]\n",
    "mu, sigma = np.mean(degs), np.std(degs)\n",
    "# main core\n",
    "H = nx.k_core(G_top)\n",
    "\n",
    "G1_h = list(H.nodes)"
   ]
  },
  {
   "cell_type": "code",
   "execution_count": 57,
   "metadata": {},
   "outputs": [],
   "source": [
    "G_top = pd.read_csv(\"/Users/rdora/breast_cancer/basal/gene-range_100.csv\")\n",
    "G_top = nx.from_pandas_edgelist(G_top,\n",
    "                               source=\"gene_1\",\n",
    "                               target=\"gene_2\")\n",
    "degs = [d for v, d in G_top.degree]\n",
    "mu, sigma = np.mean(degs), np.std(degs)\n",
    "# main core\n",
    "F = nx.k_core(G_top, k=37)\n",
    "\n",
    "G1_b = list(F.nodes)"
   ]
  },
  {
   "cell_type": "code",
   "execution_count": 70,
   "metadata": {},
   "outputs": [
    {
     "data": {
      "text/plain": [
       "113"
      ]
     },
     "execution_count": 70,
     "metadata": {},
     "output_type": "execute_result"
    }
   ],
   "source": [
    "len(G1_b)"
   ]
  },
  {
   "cell_type": "code",
   "execution_count": 58,
   "metadata": {
    "scrolled": true
   },
   "outputs": [
    {
     "name": "stderr",
     "output_type": "stream",
     "text": [
      "/usr/local/lib/python3.7/site-packages/ipykernel_launcher.py:7: SettingWithCopyWarning: \n",
      "A value is trying to be set on a copy of a slice from a DataFrame.\n",
      "Try using .loc[row_indexer,col_indexer] = value instead\n",
      "\n",
      "See the caveats in the documentation: https://pandas.pydata.org/pandas-docs/stable/user_guide/indexing.html#returning-a-view-versus-a-copy\n",
      "  import sys\n",
      "/usr/local/lib/python3.7/site-packages/ipykernel_launcher.py:12: SettingWithCopyWarning: \n",
      "A value is trying to be set on a copy of a slice from a DataFrame.\n",
      "Try using .loc[row_indexer,col_indexer] = value instead\n",
      "\n",
      "See the caveats in the documentation: https://pandas.pydata.org/pandas-docs/stable/user_guide/indexing.html#returning-a-view-versus-a-copy\n",
      "  if sys.path[0] == '':\n"
     ]
    }
   ],
   "source": [
    "data = []\n",
    "ten = [0, 50, 70, 90, 95, 96, 97, 98, 99, 100]\n",
    "G1s = [G1_h, G1_b]\n",
    "df_ten = df_d[df_d['layer'].isin(ten)]\n",
    "for x, tissue in enumerate(['healthy', 'basal']):\n",
    "    df_G1 = df_ten[(df_ten['node'].isin(G1s[x])) & (df_ten['tissue']==tissue)]\n",
    "    df_G1['group'] = 'A'\n",
    "    data.append(df_G1)\n",
    "    for i in range(101):\n",
    "        G2 = np.random.choice(nodes, len(G1s[x]))\n",
    "        df_G2 = df_ten[(df_ten['node'].isin(G2)) & (df_ten['tissue']==tissue)]\n",
    "        df_G2['group'] = 'B'\n",
    "        data.append(df_G2)\n",
    "df_co = pd.concat(data)\n",
    "del data"
   ]
  },
  {
   "cell_type": "code",
   "execution_count": 59,
   "metadata": {},
   "outputs": [],
   "source": [
    "six = [0, 50, 70, 90, 95, 100]\n",
    "df_6_co = df_co[df_co.layer.isin(six)]"
   ]
  },
  {
   "cell_type": "code",
   "execution_count": 64,
   "metadata": {},
   "outputs": [],
   "source": [
    "df_6_co.to_csv(\"/Users/rdora/breast_cancer/data/degree_cores_group.csv\", index=False)"
   ]
  },
  {
   "cell_type": "code",
   "execution_count": 26,
   "metadata": {},
   "outputs": [
    {
     "name": "stderr",
     "output_type": "stream",
     "text": [
      "/usr/local/lib/python3.7/site-packages/seaborn/axisgrid.py:375: UserWarning: This figure includes Axes that are not compatible with tight_layout, so results might be incorrect.\n",
      "  fig.tight_layout()\n",
      "/usr/local/lib/python3.7/site-packages/seaborn/axisgrid.py:848: UserWarning: This figure includes Axes that are not compatible with tight_layout, so results might be incorrect.\n",
      "  self.fig.tight_layout()\n"
     ]
    },
    {
     "data": {
      "image/png": "[encoded data removed]",
      "text/plain": [
       "<Figure size 518.4x144 with 12 Axes>"
      ]
     },
     "metadata": {
      "needs_background": "light"
     },
     "output_type": "display_data"
    }
   ],
   "source": [
    "with sns.hls_palette(2, l=.5, s=.3):\n",
    "    g = sns.FacetGrid(row='tissue', col='layer',\n",
    "                     hue='group', data=df_6_co,\n",
    "                     sharex='col', sharey='row',\n",
    "                     height=1, aspect=1.2,\n",
    "                     gridspec_kws={\"hspace\":0.15})\n",
    "\n",
    "g.map(sns.distplot, \"degree\")\n",
    "\n",
    "# Titles\n",
    "[plt.setp(ax.texts, text=\"\") for ax in g.axes.flat]\n",
    "g.set_titles(row_template = '', template = '{col_name}')\n",
    "\n",
    "# Remove y labels\n",
    "g.axes[0,0].set_ylabel('')\n",
    "g.axes[1,0].set_ylabel('')\n",
    "\n",
    "g.axes[0,0].set_title(r'\\textbf{Layer}={\\small 0}')\n",
    "for i in range(6):\n",
    "    g.axes[1,i].set_title('')\n",
    "    g.axes[1,i].set_xlabel('')\n",
    "    \n",
    "# Text\n",
    "g.fig.text(0.88, 0.65, r'\\textbf{Healthy}', rotation=270)\n",
    "g.fig.text(0.88, 0.3, r'\\textbf{Basal}', rotation=270)\n",
    "\n",
    "# Labels\n",
    "g.fig.text(0.5, -0.1, r'Degree')\n",
    "g.fig.text(0.05, 0.4, r'Frequency', rotation=90)\n",
    "\n",
    "g.fig.text(0.05, 1.1, r'\\large \\textbf{B} Core')\n",
    "\n",
    "# Legend\n",
    "g.fig.legend(title=r'\\small Group', labels=['Core', 'Control'], ncol=2, loc=(0.73, 0.85),\n",
    "            fontsize='x-small', frameon=False);\n",
    "\n",
    "g.savefig(join(FIG, \"cores_evolution.png\"), dpi=300)"
   ]
  },
  {
   "cell_type": "markdown",
   "metadata": {},
   "source": [
    "## Top 6 Layers"
   ]
  },
  {
   "cell_type": "code",
   "execution_count": 30,
   "metadata": {},
   "outputs": [],
   "source": [
    "top = [95, 96, 97, 98, 99, 100]\n",
    "df_top = df_co[df_co.layer.isin(top)]"
   ]
  },
  {
   "cell_type": "code",
   "execution_count": 32,
   "metadata": {},
   "outputs": [
    {
     "name": "stderr",
     "output_type": "stream",
     "text": [
      "/usr/local/lib/python3.7/site-packages/seaborn/axisgrid.py:375: UserWarning: This figure includes Axes that are not compatible with tight_layout, so results might be incorrect.\n",
      "  fig.tight_layout()\n",
      "/usr/local/lib/python3.7/site-packages/seaborn/axisgrid.py:848: UserWarning: This figure includes Axes that are not compatible with tight_layout, so results might be incorrect.\n",
      "  self.fig.tight_layout()\n"
     ]
    },
    {
     "data": {
      "image/png": "[encoded data removed]",
      "text/plain": [
       "<Figure size 518.4x144 with 12 Axes>"
      ]
     },
     "metadata": {
      "needs_background": "light"
     },
     "output_type": "display_data"
    }
   ],
   "source": [
    "with sns.hls_palette(2, l=.5, s=.3):\n",
    "    g = sns.FacetGrid(row='tissue', col='layer',\n",
    "                     hue='group', data=df_top,\n",
    "                     sharex='col', sharey='row',\n",
    "                     height=1, aspect=1.2,\n",
    "                     gridspec_kws={\"hspace\":0.15})\n",
    "\n",
    "g.map(sns.distplot, \"degree\")\n",
    "\n",
    "# Titles\n",
    "[plt.setp(ax.texts, text=\"\") for ax in g.axes.flat]\n",
    "g.set_titles(row_template = '', template = '{col_name}')\n",
    "\n",
    "# Remove y labels\n",
    "g.axes[0,0].set_ylabel('')\n",
    "g.axes[1,0].set_ylabel('')\n",
    "\n",
    "g.axes[0,0].set_title(r'\\textbf{Layer}={\\small 95}')\n",
    "for i in range(6):\n",
    "    g.axes[1,i].set_title('')\n",
    "    g.axes[1,i].set_xlabel('')\n",
    "    \n",
    "# Text\n",
    "g.fig.text(0.88, 0.65, r'\\textbf{Healthy}', rotation=270)\n",
    "g.fig.text(0.88, 0.3, r'\\textbf{Basal}', rotation=270)\n",
    "\n",
    "# Labels\n",
    "g.fig.text(0.5, -0.1, r'Degree')\n",
    "g.fig.text(0.05, 0.4, r'Frequency', rotation=90)\n",
    "\n",
    "g.fig.text(0.05, 1.1, r'\\large \\textbf{D} Core: top 6 layers')\n",
    "\n",
    "# Legend\n",
    "g.fig.legend(title=r'\\small Group', labels=['Core', 'Control'], ncol=2, loc=(0.73, 0.85),\n",
    "            fontsize='x-small', frameon=False);\n",
    "\n",
    "g.savefig(join(FIG, \"top_core_evolution.png\"), dpi=300)"
   ]
  }
 ],
 "metadata": {
  "kernelspec": {
   "display_name": "Python 3",
   "language": "python",
   "name": "python3"
  },
  "language_info": {
   "codemirror_mode": {
    "name": "ipython",
    "version": 3
   },
   "file_extension": ".py",
   "mimetype": "text/x-python",
   "name": "python",
   "nbconvert_exporter": "python",
   "pygments_lexer": "ipython3",
   "version": "3.7.3"
  }
 },
 "nbformat": 4,
 "nbformat_minor": 2
}
